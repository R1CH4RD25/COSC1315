{
  "cells": [
    {
      "cell_type": "markdown",
      "metadata": {
        "id": "MyRl-gxZOaEK"
      },
      "source": [
        "# Lesson 05: Type Conversion\n",
        "\n",
        "**Video Source:** [Code with Mosh - Python Tutorial](https://www.youtube.com/watch?v=_uQrJ0TkZlc&t=22m40s)  \n",
        "**Time Range:** 22:40 - 29:28\n",
        "\n",
        "---"
      ]
    },
    {
      "cell_type": "markdown",
      "metadata": {
        "id": "6CflVDVqOaEO"
      },
      "source": [
        "## \ud83d\udcda Objectives and Learning Goals\n",
        "\n",
        "By the end of this lesson, you will be able to:\n",
        "\n",
        "- **Convert between data types** using `int()`, `float()`, `str()`, and `bool()`\n",
        "- **Perform calculations with user input** by converting strings to numbers\n",
        "- **Understand why type conversion is necessary** (input always returns strings)\n",
        "- **Handle different numeric types** (integers vs. floats)\n",
        "- **Build interactive calculators** that accept and process user input\n",
        "- **Recognize common pitfalls** like trying to do math on strings\n",
        "\n",
        "### Key Concepts:\n",
        "\n",
        "- `input()` **always** returns a string, even if you type a number\n",
        "- Use `int()` to convert strings to whole numbers\n",
        "- Use `float()` to convert strings to decimal numbers\n",
        "- Use `type()` to check what type a variable is\n",
        "- Cannot do math operations between strings and numbers without conversion"
      ]
    },
    {
      "cell_type": "markdown",
      "metadata": {
        "id": "MqvccyaVOaEP"
      },
      "source": [
        "## \u2699\ufe0f Run This First - Setup\n",
        "\n",
        "**Important:** Run this cell first to load the verification system!\n",
        "\n",
        "This cell mounts your Google Drive and imports the verification functions."
      ]
    },
    {
      "cell_type": "code",
      "execution_count": null,
      "metadata": {
        "colab": {
          "base_uri": "https://localhost:8080/"
        },
        "executionInfo": {
          "elapsed": 25195,
          "status": "ok",
          "timestamp": 1761829597736,
          "user": {
            "displayName": "Richard Sullivan",
            "userId": "18337589653226615927"
          },
          "user_tz": 300
        },
        "id": "5IsRtvk-OaEP",
        "outputId": "fcf89ac5-4ec8-4169-bc1b-c7b2f110c6b1"
      },
      "outputs": [
        {
          "name": "stdout",
          "output_type": "stream",
          "text": [
            "Mounted at /content/drive\n",
            "\u2705 Setup complete! You're ready to start coding.\n"
          ]
        }
      ],
      "source": [
        "# Download verification file from GitHub\n",
        "import urllib.request\n",
        "import os\n",
        "\n",
        "# Download the verification file\n",
        "url = 'https://raw.githubusercontent.com/R1CH4RD25/COSC1315/main/Lessons/Verifications/lesson_05_verification.py'\n",
        "filename = 'lesson_05_verification.py'\n",
        "\n",
        "print('Downloading verification file...')\n",
        "urllib.request.urlretrieve(url, filename)\n",
        "\n",
        "# Verify download\n",
        "if os.path.exists(filename):\n",
        "    print(f'\u2705 Downloaded {filename} successfully!')\n",
        "    print(f'File size: {os.path.getsize(filename)} bytes')\n",
        "else:\n",
        "    print('\u274c Download failed!')\n",
        "\n",
        "# Show current directory and files\n",
        "print(f'Current directory: {os.getcwd()}')\n",
        "print(f'Files in directory: {os.listdir()}')\n",
        "\n",
        "# Add current directory to Python path\n",
        "import sys\n",
        "if os.getcwd() not in sys.path:\n",
        "    sys.path.insert(0, os.getcwd())\n",
        "\n",
        "# Import verification functions\n",
        "from lesson_05_verification import (\n",
        "    verify_walk_along_1,\n",
        "    verify_walk_along_2,\n",
        "    verify_walk_along_3,\n",
        "    verify_walk_along_4,\n",
        "    verify_try_it_yourself_1,\n",
        "    verify_try_it_yourself_2,\n",
        "    verify_try_it_yourself_3,\n",
        "    verify_debug_1,\n",
        "    verify_debug_2,\n",
        "    verify_debug_3,\n",
        "    calculate_grade\n",
        ")\n",
        "\n",
        "print('\u2705 Setup complete! You\\'re ready to start coding.')"
      ]
    },
    {
      "cell_type": "markdown",
      "metadata": {
        "id": "UE6OflOiOaEQ"
      },
      "source": [
        "## \ud83d\udcfa Walk-Along Tasks\n",
        "\n",
        "**Instructions:** Follow along with the Code with Mosh video. Type the code yourself in each cell below.\n",
        "\n",
        "**Total Points:** 1 points (5 points per task)\n",
        "\n",
        "---"
      ]
    },
    {
      "cell_type": "markdown",
      "metadata": {
        "id": "8N4S7wvfOaEQ"
      },
      "source": [
        "### Walk-Along Task 1: Ask for Birth Year (4 points)\n",
        "\n",
        "**Goal:** Ask the user for their birth year and store it in a variable called `birth_year`, then print it.\n",
        "\n",
        "**Instructions:**\n",
        "1. Use `input()` to ask \"Birth year: \"\n",
        "2. Store the result in a variable called `birth_year`\n",
        "3. Print the `birth_year` variable\n",
        "\n",
        "**Example Output:**\n",
        "```\n",
        "Birth year: 2000\n",
        "2000\n",
        "```"
      ]
    },
    {
      "cell_type": "code",
      "execution_count": null,
      "metadata": {
        "id": "_F5k_FxhOaER"
      },
      "outputs": [],
      "source": [
        "# Type your code below:\n"
      ]
    },
    {
      "cell_type": "code",
      "execution_count": null,
      "metadata": {
        "id": "XDK4sWoKOaER"
      },
      "outputs": [],
      "source": [
        "# Run this cell to verify your code\n",
        "verify_walk_along_1()"
      ]
    },
    {
      "cell_type": "markdown",
      "metadata": {
        "id": "6oVyK96zOaER"
      },
      "source": [
        "### Walk-Along Task 2: Try to Calculate Age (ERROR Demo) (4 points)\n",
        "\n",
        "**Goal:** Try to calculate age by subtracting birth_year from 2025. This will cause a TypeError!\n",
        "\n",
        "**Instructions:**\n",
        "1. Create a variable called `age`\n",
        "2. Set it to `2025 - birth_year` (this will cause an error)\n",
        "3. Try to print `age`\n",
        "\n",
        "**Expected:** You should see a TypeError!\n",
        "\n",
        "**Why?** Because `input()` returns a **string**, not a number. You can't subtract a string from a number!"
      ]
    },
    {
      "cell_type": "code",
      "execution_count": null,
      "metadata": {
        "id": "EXxHIT8jOaES"
      },
      "outputs": [],
      "source": [
        "# Type your code below (this should cause an error):\n"
      ]
    },
    {
      "cell_type": "code",
      "execution_count": null,
      "metadata": {
        "id": "hZr31_5ROaES"
      },
      "outputs": [],
      "source": [
        "# Run this cell to verify you saw the error\n",
        "verify_walk_along_2()"
      ]
    },
    {
      "cell_type": "markdown",
      "metadata": {
        "id": "9A4LMj9-OaES"
      },
      "source": [
        "### Walk-Along Task 3: Fix with Type Conversion (4 points)\n",
        "\n",
        "**Goal:** Fix the TypeError by converting `birth_year` to an integer before doing math.\n",
        "\n",
        "**Instructions:**\n",
        "1. Ask for birth year again: `birth_year = input('Birth year: ')`\n",
        "2. Create a variable called `age`\n",
        "3. Set it to `2025 - int(birth_year)` (notice the `int()` function!)\n",
        "4. Print `age`\n",
        "\n",
        "**Example Output:**\n",
        "```\n",
        "Birth year: 2000\n",
        "25\n",
        "```"
      ]
    },
    {
      "cell_type": "code",
      "execution_count": null,
      "metadata": {
        "id": "FviJFVOjOaES"
      },
      "outputs": [],
      "source": [
        "# Type your code below:\n"
      ]
    },
    {
      "cell_type": "code",
      "execution_count": null,
      "metadata": {
        "id": "xCbZlKNLOaET"
      },
      "outputs": [],
      "source": [
        "# Run this cell to verify your code\n",
        "verify_walk_along_3()"
      ]
    },
    {
      "cell_type": "markdown",
      "metadata": {
        "id": "rStVxTyFOaET"
      },
      "source": [
        "### Walk-Along Task 4: Check Variable Types (3 points)\n",
        "\n",
        "**Goal:** Use the `type()` function to see what type `birth_year` and `age` are.\n",
        "\n",
        "**Instructions:**\n",
        "1. Print `type(birth_year)` to see it's a string\n",
        "2. Print `type(age)` to see it's an integer\n",
        "\n",
        "**Example Output:**\n",
        "```\n",
        "<class 'str'>\n",
        "<class 'int'>\n",
        "```\n",
        "\n",
        "**Key Insight:** `birth_year` is a **string** (str), but `age` is an **integer** (int) because we used `int()`!"
      ]
    },
    {
      "cell_type": "code",
      "execution_count": null,
      "metadata": {
        "id": "UtMgEEEQOaET"
      },
      "outputs": [],
      "source": [
        "# Type your code below:\n"
      ]
    },
    {
      "cell_type": "code",
      "execution_count": null,
      "metadata": {
        "id": "rUY26wxnOaET"
      },
      "outputs": [],
      "source": [
        "# Run this cell to verify your code\n",
        "verify_walk_along_4()"
      ]
    },
    {
      "cell_type": "markdown",
      "metadata": {
        "id": "VtXA-TgPOaET"
      },
      "source": [
        "---\n",
        "\n",
        "## \ud83c\udfaf Try It Yourself\n",
        "\n",
        "**Instructions:** Now it's your turn! Complete these independent challenges.\n",
        "\n",
        "**Total Points:** 10 points\n",
        "\n",
        "---"
      ]
    },
    {
      "cell_type": "markdown",
      "metadata": {
        "id": "_Sg_c0mPOaET"
      },
      "source": [
        "### Try It Yourself 1: Weight Converter (17 points)\n",
        "\n",
        "**Goal:** Create a program that converts weight from pounds to kilograms.\n",
        "\n",
        "**Instructions:**\n",
        "1. Ask the user: \"Weight (lbs): \"\n",
        "2. Store the input in a variable called `weight_lbs`\n",
        "3. Convert `weight_lbs` to an integer using `int()`\n",
        "4. Calculate kilograms: `weight_kg = int(weight_lbs) * 0.45`\n",
        "5. Print the result: `weight_kg`\n",
        "\n",
        "**Example Output:**\n",
        "```\n",
        "Weight (lbs): 160\n",
        "72.0\n",
        "```\n",
        "\n",
        "**Sports Connection:** A linebacker weighing 250 lbs would be about 112.5 kg!"
      ]
    },
    {
      "cell_type": "code",
      "execution_count": null,
      "metadata": {
        "id": "a2EzK2-dOaET"
      },
      "outputs": [],
      "source": [
        "# Type your code below:\n"
      ]
    },
    {
      "cell_type": "code",
      "execution_count": null,
      "metadata": {
        "id": "oCTZxoTxOaET"
      },
      "outputs": [],
      "source": [
        "# Run this cell to verify your code\n",
        "verify_try_it_yourself_1()"
      ]
    },
    {
      "cell_type": "markdown",
      "metadata": {
        "id": "3plej-ZFOaEU"
      },
      "source": [
        "### Try It Yourself 2: Temperature Converter (17 points)\n",
        "\n",
        "**Goal:** Convert temperature from Fahrenheit to Celsius.\n",
        "\n",
        "**Instructions:**\n",
        "1. Ask the user: \"Temperature (F): \"\n",
        "2. Store input in `temp_f`\n",
        "3. Convert to Celsius using formula: `temp_c = (int(temp_f) - 32) * 5/9`\n",
        "4. Print `temp_c`\n",
        "\n",
        "**Formula:** Celsius = (Fahrenheit - 32) \u00d7 5/9\n",
        "\n",
        "**Example Output:**\n",
        "```\n",
        "Temperature (F): 100\n",
        "37.77777777777778\n",
        "```\n",
        "\n",
        "**Sports Connection:** A 95\u00b0F game day is about 35\u00b0C - that's HOT! \u2600\ufe0f"
      ]
    },
    {
      "cell_type": "code",
      "execution_count": null,
      "metadata": {
        "id": "aMYXy3BiOaEU"
      },
      "outputs": [],
      "source": [
        "# Type your code below:\n"
      ]
    },
    {
      "cell_type": "code",
      "execution_count": null,
      "metadata": {
        "id": "O9B8pYdFOaEU"
      },
      "outputs": [],
      "source": [
        "# Run this cell to verify your code\n",
        "verify_try_it_yourself_2()"
      ]
    },
    {
      "cell_type": "markdown",
      "metadata": {
        "id": "_hGr9klWOaEU"
      },
      "source": [
        "### Try It Yourself 3: Yards to Meters (16 points)\n",
        "\n",
        "**Goal:** Convert yards gained in a play to meters.\n",
        "\n",
        "**Instructions:**\n",
        "1. Ask: \"Yards gained: \"\n",
        "2. Store in `yards`\n",
        "3. Convert to meters: `meters = float(yards) * 0.9144`\n",
        "4. Print `meters`\n",
        "\n",
        "**Example Output:**\n",
        "```\n",
        "Yards gained: 75\n",
        "68.58\n",
        "```\n",
        "\n",
        "**Sports Connection:** A 100-yard touchdown is 91.44 meters! \ud83c\udfc8"
      ]
    },
    {
      "cell_type": "code",
      "execution_count": null,
      "metadata": {
        "id": "I0V5yRIAOaEU"
      },
      "outputs": [],
      "source": [
        "# Type your code below:\n"
      ]
    },
    {
      "cell_type": "code",
      "execution_count": null,
      "metadata": {
        "id": "ot-v_3DsOaEU"
      },
      "outputs": [],
      "source": [
        "# Run this cell to verify your code\n",
        "verify_try_it_yourself_3()"
      ]
    },
    {
      "cell_type": "markdown",
      "metadata": {
        "id": "fS0TNJ-6OaEU"
      },
      "source": [
        "---\n",
        "\n",
        "## \ud83d\udc1e Debug the Bug\n",
        "\n",
        "**Instructions:** Each cell below has intentional bugs. Find and fix them!\n",
        "\n",
        "**Total Points:** 10 points\n",
        "\n",
        "---"
      ]
    },
    {
      "cell_type": "markdown",
      "metadata": {
        "id": "8kGLqmpEOaEU"
      },
      "source": [
        "### Debug Task 1: Missing Conversion (12 points)\n",
        "\n",
        "**Problem:** This code tries to do math on a string. Fix it!\n",
        "\n",
        "**Instructions:**\n",
        "1. Copy the broken code below into the empty cell\n",
        "2. Add `int()` around the input to convert it to an integer\n",
        "3. Run it and verify it works\n",
        "\n",
        "**Broken Code:**\n",
        "```python\n",
        "birth_year = input('Birth year: ')\n",
        "age = 2025 - birth_year\n",
        "print(age)\n",
        "```\n",
        "\n",
        "**Hint:** Wrap `birth_year` with `int()` when you use it in the calculation!"
      ]
    },
    {
      "cell_type": "code",
      "execution_count": null,
      "metadata": {
        "id": "rJWGLY-FOaEU"
      },
      "outputs": [],
      "source": [
        "# Fix the code below:\n"
      ]
    },
    {
      "cell_type": "code",
      "execution_count": null,
      "metadata": {
        "id": "VaNenoyIOaEV"
      },
      "outputs": [],
      "source": [
        "# Run this cell to verify your fix\n",
        "verify_debug_1()"
      ]
    },
    {
      "cell_type": "markdown",
      "metadata": {
        "id": "XnbOg_vOOaEV"
      },
      "source": [
        "### Debug Task 2: Wrong Conversion Type (12 points)\n",
        "\n",
        "**Problem:** Using `int()` when you need `float()` for decimals.\n",
        "\n",
        "**Instructions:**\n",
        "1. Copy the broken code below\n",
        "2. Change `int()` to `float()` for more precise weight conversion\n",
        "3. Run and verify\n",
        "\n",
        "**Broken Code:**\n",
        "```python\n",
        "weight = input('Weight (lbs): ')\n",
        "weight_kg = int(weight) * 0.45\n",
        "print(weight_kg)\n",
        "```\n",
        "\n",
        "**Hint:** `int()` gives whole numbers, `float()` gives decimals!"
      ]
    },
    {
      "cell_type": "code",
      "execution_count": null,
      "metadata": {
        "id": "K4nazchMOaEV"
      },
      "outputs": [],
      "source": [
        "# Fix the code below:\n"
      ]
    },
    {
      "cell_type": "code",
      "execution_count": null,
      "metadata": {
        "id": "bvn3BuWZOaEV"
      },
      "outputs": [],
      "source": [
        "# Run this cell to verify your fix\n",
        "verify_debug_2()"
      ]
    },
    {
      "cell_type": "markdown",
      "metadata": {
        "id": "osEGDjPLOaEV"
      },
      "source": [
        "### Debug Task 3: Forgot to Print (11 points)\n",
        "\n",
        "**Problem:** Using `type()` but not printing the result.\n",
        "\n",
        "**Instructions:**\n",
        "1. Copy the broken code below\n",
        "2. Wrap the `type()` call in a `print()` statement\n",
        "3. Run and verify\n",
        "\n",
        "**Broken Code:**\n",
        "```python\n",
        "year = input('Enter year: ')\n",
        "type(year)\n",
        "```\n",
        "\n",
        "**Hint:** `type(year)` calculates the type but doesn't show it. You need `print()`!"
      ]
    },
    {
      "cell_type": "code",
      "execution_count": null,
      "metadata": {
        "id": "MLe513EJOaEV"
      },
      "outputs": [],
      "source": [
        "# Fix the code below:\n"
      ]
    },
    {
      "cell_type": "code",
      "execution_count": null,
      "metadata": {
        "id": "0esRKctpOaEV"
      },
      "outputs": [],
      "source": [
        "# Run this cell to verify your fix\n",
        "verify_debug_3()"
      ]
    },
    {
      "cell_type": "markdown",
      "metadata": {
        "id": "miR0iFjYOaEV"
      },
      "source": [
        "---\n",
        "\n",
        "## \ud83d\udcca What's My Grade?\n",
        "\n",
        "**Instructions:** Run the cell below to calculate your grade for this lesson.\n",
        "\n",
        "**Grading Breakdown:**\n",
        "- Walk-Along Tasks: 1 points (5 points each)\n",
        "- Try It Yourself: 10 points (15 + 15 + 10)\n",
        "- Debug Exercises: 10 points (15 + 15 + 10)\n",
        "- **Total: 24 points**\n",
        "\n",
        "---"
      ]
    },
    {
      "cell_type": "code",
      "execution_count": null,
      "metadata": {
        "id": "5BWNOGlyOaEV"
      },
      "outputs": [],
      "source": [
        "# Run this cell to see your grade\n",
        "calculate_grade()"
      ]
    },
    {
      "cell_type": "markdown",
      "metadata": {
        "id": "1PkNZzrDOaEY"
      },
      "source": [
        "---\n",
        "\n",
        "## \ud83c\udd98 I'm Stuck! What Do I Do?\n",
        "\n",
        "**Before asking for help, try these steps:**\n",
        "\n",
        "1. **Read the error message carefully** - It tells you what's wrong!\n",
        "2. **Check your spelling** - Variable names must match exactly\n",
        "3. **Did you run the Setup cell?** - Scroll up and run it first\n",
        "4. **Did you use the right conversion?** - `int()` for whole numbers, `float()` for decimals\n",
        "5. **Re-watch the video** - Pause and type along with Mosh\n",
        "\n",
        "**Still stuck?** Ask your instructor for help! \ud83d\ude4b\n",
        "\n",
        "---\n",
        "\n",
        "## \ud83c\udfaf Key Takeaways\n",
        "\n",
        "**Remember these important concepts:**\n",
        "\n",
        "\u2705 `input()` **always** returns a **string**, even if you type a number  \n",
        "\u2705 Use `int()` to convert strings to whole numbers  \n",
        "\u2705 Use `float()` to convert strings to decimal numbers  \n",
        "\u2705 Use `type()` to check what type a variable is  \n",
        "\u2705 You **cannot** do math on strings without converting them first  \n",
        "\u2705 TypeError = trying to use incompatible types together  \n",
        "\n",
        "---\n",
        "\n",
        "**Great job! You've completed Lesson 05! \ud83c\udf89**"
      ]
    }
  ],
  "metadata": {
    "colab": {
      "provenance": []
    },
    "kernelspec": {
      "display_name": "Python 3",
      "language": "python",
      "name": "python3"
    },
    "language_info": {
      "codemirror_mode": {
        "name": "ipython",
        "version": 3
      },
      "file_extension": ".py",
      "name": "python",
      "nbconvert_exporter": "python",
      "pygments_lexer": "ipython3",
      "version": "3.8.0"
    }
  },
  "nbformat": 4,
  "nbformat_minor": 0
}