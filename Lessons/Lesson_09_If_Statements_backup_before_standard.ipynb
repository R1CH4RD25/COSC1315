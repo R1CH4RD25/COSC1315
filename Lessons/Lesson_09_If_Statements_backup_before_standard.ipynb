{
  "cells": [
    {
      "cell_type": "markdown",
      "id": "154d888c",
      "metadata": {},
      "source": [
        "# Lesson 09 \u2014 If Statements (58:16\u20131:06:24)\n",
        "\n",
        "**Video Source:** [Code with Mosh - Python Tutorial](https://www.youtube.com/watch?v=_uQrJ0TkZlc&t=48m32s)  \n",
        "**Time Range:** 48:32 - 58:16\n",
        "\n",
        "---"
      ]
    },
    {
      "cell_type": "markdown",
      "id": "671bc2ac",
      "metadata": {},
      "source": [
        "## \ud83d\udcda Objectives and Learning Goals\n",
        "\n",
        "By the end of this lesson, you will be able to:\n",
        "\n",
        "- **Perform basic arithmetic operations** using +, -, *, /, //, %, and ** operators\n",
        "- **Understand operator precedence** (PEMDAS) and use parentheses to control evaluation order\n",
        "- **Apply augmented assignment operators** like +=, -=, *=, /= for efficient code\n",
        "- **Work with the math module** to access functions like ceil(), floor(), sqrt()\n",
        "- **Calculate remainders** using the modulus operator % for divisibility checks\n",
        "- **Write clear expressions** that are readable and produce expected results\n",
        "\n",
        "### Key Concepts:\n",
        "\n",
        "- **Operator precedence**: Exponentiation (**) has highest precedence, followed by *, /, //, %, then + and -\n",
        "- **Augmented assignment**: Combine operations with assignment (x += 3 means x = x + 3)\n",
        "- **Division types**: `/` always returns float, `//` returns integer quotient\n",
        "- **Math module**: Provides advanced functions beyond built-in operators\n",
        "- **Parentheses**: Override default precedence and make code clearer"
      ]
    },
    {
      "cell_type": "markdown",
      "id": "27dd753b",
      "metadata": {},
      "source": [
        "## \u2699\ufe0f Run This First - Setup\n",
        "\n",
        "**Important:** Run this cell first to load the verification system!\n",
        "\n",
        "This cell downloads the verification functions from GitHub."
      ]
    },
    {
      "cell_type": "code",
      "execution_count": null,
      "id": "e167080d",
      "metadata": {},
      "outputs": [],
      "source": [
        "import urllib.request\n",
        "import os\n",
        "\n",
        "url = 'https://raw.githubusercontent.com/R1CH4RD25/COSC1315/main/Lessons/Verifications/lesson_09_verification.py'\n",
        "filename = 'lesson_09_verification.py'\n",
        "\n",
        "print('Downloading verification file...')\n",
        "urllib.request.urlretrieve(url, filename)\n",
        "\n",
        "# Verify download\n",
        "if os.path.exists(filename):\n",
        "    print(f'\u2705 Downloaded {filename} successfully!')\n",
        "    print(f'File size: {os.path.getsize(filename)} bytes')\n",
        "\n",
        "# Show current directory and files (for debugging)\n",
        "print(f'Current directory: {os.getcwd()}')\n",
        "print(f'Files in directory: {os.listdir()}')\n",
        "\n",
        "# Add current directory to Python path\n",
        "import sys\n",
        "if os.getcwd() not in sys.path:\n",
        "    sys.path.insert(0, os.getcwd())\n",
        "\n",
        "# Import verification functions\n",
        "from lesson_09_verification import (\n",
        "    verify_walk_along_1,\n",
        "    verify_walk_along_2,\n",
        "    verify_walk_along_3,\n",
        "    verify_walk_along_4,\n",
        "    verify_try_it_yourself_1,\n",
        "    verify_try_it_yourself_2,\n",
        "    verify_try_it_yourself_3,\n",
        "    verify_debug_1,\n",
        "    verify_debug_2,\n",
        "    verify_debug_3,\n",
        "    calculate_grade\n",
        ")\n",
        "\n",
        "print('\u2705 Setup complete! You\\'re ready to start coding.')"
      ]
    },
    {
      "cell_type": "markdown",
      "id": "46a585af",
      "metadata": {},
      "source": [
        "## \ud83d\udcfa Walk-Along Tasks\n",
        "\n",
        "**Instructions:** Follow along with the Code with Mosh video. Type the code yourself in each cell below.\n",
        "\n",
        "**Total Points:** 3 points (3-1 points per task)\n",
        "\n",
        "---"
      ]
    },
    {
      "cell_type": "markdown",
      "id": "70da51e6",
      "metadata": {},
      "source": [
        "### Walk-Along Task 1: Basic Arithmetic Operations (1 points)\n",
        "\n",
        "**Goal:** Practice all seven arithmetic operators in Python.\n",
        "\n",
        "**Instructions:**\n",
        "1. Print the result of `10 + 3` (addition)\n",
        "2. Print the result of `10 - 3` (subtraction)\n",
        "3. Print the result of `10 * 3` (multiplication)\n",
        "4. Print the result of `10 / 3` (division - returns float)\n",
        "5. Print the result of `10 // 3` (floor division - returns integer)\n",
        "6. Print the result of `10 % 3` (modulus - returns remainder)\n",
        "7. Print the result of `10 ** 3` (exponentiation - power)\n",
        "\n",
        "**Expected Output:**\n",
        "```\n",
        "13\n",
        "7\n",
        "30\n",
        "3.3333333333333335\n",
        "3\n",
        "1\n",
        "1000\n",
        "```\n",
        "\n",
        "**Run This Cell** to complete the task, then run the verification cell below."
      ]
    },
    {
      "cell_type": "code",
      "execution_count": null,
      "id": "e94124a0",
      "metadata": {},
      "outputs": [],
      "source": [
        "# Type your code below:"
      ]
    },
    {
      "cell_type": "code",
      "execution_count": null,
      "id": "84e2d253",
      "metadata": {},
      "outputs": [],
      "source": [
        "# Run this cell to verify your work\n",
        "verify_walk_along_1()"
      ]
    },
    {
      "cell_type": "markdown",
      "id": "44e89a68",
      "metadata": {},
      "source": [
        "### Walk-Along Task 2: Augmented Assignment Operators (1 points)\n",
        "\n",
        "**Goal:** Learn to use shorthand operators that combine arithmetic with assignment.\n",
        "\n",
        "**Instructions:**\n",
        "1. Create a variable `x` and set it to `10`\n",
        "2. Use `x += 3` to add 3 to x\n",
        "3. Print x (should be 13)\n",
        "4. Use `x -= 3` to subtract 3 from x\n",
        "5. Print x (should be back to 10)\n",
        "\n",
        "**Expected Output:**\n",
        "```\n",
        "13\n",
        "10\n",
        "```\n",
        "\n",
        "**Remember:** `x += 3` is shorthand for `x = x + 3`\n",
        "\n",
        "**Run This Cell** to complete the task, then run the verification cell below."
      ]
    },
    {
      "cell_type": "code",
      "execution_count": null,
      "id": "2a9e618d",
      "metadata": {},
      "outputs": [],
      "source": [
        "# Run this cell to verify your work\n",
        "verify_walk_along_2()"
      ]
    },
    {
      "cell_type": "code",
      "execution_count": null,
      "id": "aa83fd4f",
      "metadata": {},
      "outputs": [],
      "source": [
        "# Type your code below:"
      ]
    },
    {
      "cell_type": "markdown",
      "id": "ecb57500",
      "metadata": {},
      "source": [
        "### Walk-Along Task 3: Operator Precedence (1 points)\n",
        "\n",
        "**Goal:** Understand how Python evaluates expressions with multiple operators.\n",
        "\n",
        "**Instructions:**\n",
        "1. Create a variable `x` and set it to the expression `10 + 3 * 2 ** 2`\n",
        "2. Print x\n",
        "\n",
        "**Expected Output:**\n",
        "```\n",
        "22\n",
        "```\n",
        "\n",
        "**Why 22?** Operator precedence (PEMDAS):\n",
        "1. First: `2 ** 2 = 4` (exponentiation)\n",
        "2. Second: `3 * 4 = 12` (multiplication)\n",
        "3. Third: `10 + 12 = 22` (addition)\n",
        "\n",
        "**Run This Cell** to complete the task, then run the verification cell below."
      ]
    },
    {
      "cell_type": "code",
      "execution_count": null,
      "id": "82537ed6",
      "metadata": {},
      "outputs": [],
      "source": [
        "# Type your code below:"
      ]
    },
    {
      "cell_type": "code",
      "execution_count": null,
      "id": "f681076d",
      "metadata": {},
      "outputs": [],
      "source": [
        "# Run this cell to verify your work\n",
        "verify_walk_along_3()"
      ]
    },
    {
      "cell_type": "markdown",
      "id": "5cb050b5",
      "metadata": {},
      "source": [
        "### Walk-Along Task 4: Using Math Functions (1 points)\n",
        "\n",
        "**Goal:** Import the math module and use built-in mathematical functions.\n",
        "\n",
        "**Instructions:**\n",
        "1. Import the math module: `import math`\n",
        "2. Print `round(2.9)` - rounds to nearest integer\n",
        "3. Print `abs(-2.9)` - returns absolute value\n",
        "4. Print `math.ceil(2.9)` - rounds UP to nearest integer\n",
        "5. Print `math.floor(2.9)` - rounds DOWN to nearest integer\n",
        "\n",
        "**Expected Output:**\n",
        "```\n",
        "3\n",
        "2.9\n",
        "3\n",
        "2\n",
        "```\n",
        "\n",
        "**Remember:** `round()` and `abs()` are built-in, but `ceil()` and `floor()` require the math module!\n",
        "\n",
        "**Run This Cell** to complete the task, then run the verification cell below."
      ]
    },
    {
      "cell_type": "code",
      "execution_count": null,
      "id": "e9e5bab7",
      "metadata": {},
      "outputs": [],
      "source": [
        "# Type your code below:"
      ]
    },
    {
      "cell_type": "code",
      "execution_count": null,
      "id": "bc9d3194",
      "metadata": {},
      "outputs": [],
      "source": [
        "# Run this cell to verify your work\n",
        "verify_walk_along_4()"
      ]
    },
    {
      "cell_type": "markdown",
      "id": "d8202223",
      "metadata": {},
      "source": [
        "## \ud83c\udfaf Try It Yourself\n",
        "\n",
        "**Instructions:** Use what you learned to solve these sports-themed challenges independently.\n",
        "\n",
        "**Total Points:** 12 points\n",
        "\n",
        "---"
      ]
    },
    {
      "cell_type": "markdown",
      "id": "e84ac525",
      "metadata": {},
      "source": [
        "### Try It Yourself 1: Quarterback Passer Rating (3 points)\n",
        "\n",
        "**Goal:** Calculate a simplified quarterback passer rating using arithmetic operations.\n",
        "\n",
        "**Scenario:** You're analyzing quarterback stats. Calculate the completion percentage and yards per attempt.\n",
        "\n",
        "**Instructions:**\n",
        "1. Create a variable `completions` and set it to `28`\n",
        "2. Create a variable `attempts` and set it to `42`\n",
        "3. Create a variable `completion_percentage` that calculates: `(completions / attempts) * 100`\n",
        "4. Print the completion percentage with a message\n",
        "5. Create a variable `passing_yards` and set it to `342`\n",
        "6. Create a variable `yards_per_attempt` that calculates: `passing_yards / attempts`\n",
        "7. Print the yards per attempt with a message\n",
        "\n",
        "**Expected Output (approximate):**\n",
        "```\n",
        "Completion Percentage: 66.67%\n",
        "Yards Per Attempt: 8.14\n",
        "```\n",
        "\n",
        "**Requirements:**\n",
        "- Variables `completions`, `attempts`, `passing_yards` must exist\n",
        "- Variables `completion_percentage` and `yards_per_attempt` must be calculated correctly\n",
        "- Must use division `/` operator\n",
        "- Must print both results\n",
        "\n",
        "**Run This Cell** to complete the task, then run the verification cell below."
      ]
    },
    {
      "cell_type": "code",
      "execution_count": null,
      "id": "03142fee",
      "metadata": {},
      "outputs": [],
      "source": [
        "# Type your code below:"
      ]
    },
    {
      "cell_type": "code",
      "execution_count": null,
      "id": "2238f384",
      "metadata": {},
      "outputs": [],
      "source": [
        "# Run this cell to verify your work\n",
        "verify_try_it_yourself_1()"
      ]
    },
    {
      "cell_type": "markdown",
      "id": "5278436a",
      "metadata": {},
      "source": [
        "### Try It Yourself 2: Basketball Scoring Calculator (4 points)\n",
        "\n",
        "**Goal:** Calculate total points, field goal attempts, and shooting percentage for a basketball player.\n",
        "\n",
        "**Scenario:** A player scores with 2-pointers, 3-pointers, and free throws. Calculate their total points and shooting percentage.\n",
        "\n",
        "**Instructions:**\n",
        "1. Create variables for made shots:\n",
        "   - `field_goals_made = 12` (2-point shots)\n",
        "   - `three_pointers_made = 5`\n",
        "   - `free_throws_made = 8`\n",
        "2. Calculate `total_points` using the formula:\n",
        "   `(field_goals_made * 2) + (three_pointers_made * 3) + free_throws_made`\n",
        "3. Print total points\n",
        "4. Create variables for attempted shots:\n",
        "   - `field_goals_attempted = 18`\n",
        "   - `three_pointers_attempted = 12`\n",
        "5. Calculate `total_field_goals_attempted` (sum of FG attempts and 3P attempts)\n",
        "6. Calculate `shooting_percentage`: `(field_goals_made + three_pointers_made) / total_field_goals_attempted * 100`\n",
        "7. Use `round()` to round shooting percentage to 1 decimal place\n",
        "8. Print the shooting percentage\n",
        "\n",
        "**Expected Output:**\n",
        "```\n",
        "Total Points: 47\n",
        "Field Goal Percentage: 56.7%\n",
        "```\n",
        "\n",
        "**Requirements:**\n",
        "- All variables must be created\n",
        "- `total_points` must use correct formula with * operator\n",
        "- `shooting_percentage` must be calculated and rounded\n",
        "- Must print both results\n",
        "\n",
        "**Run This Cell** to complete the task, then run the verification cell below."
      ]
    },
    {
      "cell_type": "code",
      "execution_count": null,
      "id": "70ad422c",
      "metadata": {},
      "outputs": [],
      "source": [
        "# Type your code below:"
      ]
    },
    {
      "cell_type": "code",
      "execution_count": null,
      "id": "2afad13b",
      "metadata": {},
      "outputs": [],
      "source": [
        "# Run this cell to verify your work\n",
        "verify_try_it_yourself_2()"
      ]
    },
    {
      "cell_type": "markdown",
      "id": "fd633a71",
      "metadata": {},
      "source": [
        "### Try It Yourself 3: Team Season Statistics (3 points)\n",
        "\n",
        "**Goal:** Calculate team win percentage and points per game using floor division and modulus.\n",
        "\n",
        "**Scenario:** Analyze a team's season performance using various arithmetic operations.\n",
        "\n",
        "**Instructions:**\n",
        "1. Create variables:\n",
        "   - `wins = 52`\n",
        "   - `losses = 30`\n",
        "   - `total_points = 8640`\n",
        "2. Calculate `total_games` (wins + losses)\n",
        "3. Calculate `win_percentage`: `(wins / total_games) * 100`\n",
        "4. Use `round()` to round to 1 decimal place and print it\n",
        "5. Calculate `points_per_game`: `total_points // total_games` (use floor division!)\n",
        "6. Print points per game\n",
        "7. Calculate `remaining_points`: `total_points % total_games` (use modulus!)\n",
        "8. Print remaining points with a message like \"Remainder: X points\"\n",
        "\n",
        "**Expected Output:**\n",
        "```\n",
        "Win Percentage: 63.4%\n",
        "Points Per Game: 105\n",
        "Remainder: 7 points\n",
        "```\n",
        "\n",
        "**Requirements:**\n",
        "- Variables `wins`, `losses`, `total_points`, `total_games` must exist\n",
        "- `win_percentage` must be calculated and rounded\n",
        "- `points_per_game` must use floor division `//`\n",
        "- `remaining_points` must use modulus `%`\n",
        "- Must print all three results\n",
        "\n",
        "**Run This Cell** to complete the task, then run the verification cell below."
      ]
    },
    {
      "cell_type": "code",
      "execution_count": null,
      "id": "3d4b25d4",
      "metadata": {},
      "outputs": [],
      "source": [
        "# Type your code below:"
      ]
    },
    {
      "cell_type": "code",
      "execution_count": null,
      "id": "fa06684d",
      "metadata": {},
      "outputs": [],
      "source": [
        "# Run this cell to verify your work\n",
        "verify_try_it_yourself_3()"
      ]
    },
    {
      "cell_type": "markdown",
      "id": "d45281a4",
      "metadata": {},
      "source": [
        "## \ud83d\udc1e Debug the Bug\n",
        "\n",
        "**Instructions:** Each task has code with a bug. Find and fix the error!\n",
        "\n",
        "**Total Points:** 9 points\n",
        "\n",
        "---"
      ]
    },
    {
      "cell_type": "markdown",
      "id": "0593fa50",
      "metadata": {},
      "source": [
        "### Debug Task 1: Wrong Division Operator (3 points)\n",
        "\n",
        "**The Bug:** This code calculates players per team, but it's returning a decimal when we need a whole number!\n",
        "\n",
        "**Buggy Code:**\n",
        "```python\n",
        "total_players = 45\n",
        "num_teams = 3\n",
        "players_per_team = total_players / num_teams\n",
        "print(f\"Each team gets {players_per_team} players\")\n",
        "```\n",
        "\n",
        "**Expected Output:** `Each team gets 15 players`  \n",
        "**Actual Output:** `Each team gets 15.0 players`  \n",
        "\n",
        "**Your Task:**\n",
        "1. Copy the buggy code to the cell below\n",
        "2. Change the division operator to floor division `//` so it returns an integer\n",
        "3. Run your fixed code\n",
        "\n",
        "**Hint:** Regular division `/` always returns a float. Use floor division `//` for integer results.\n",
        "\n",
        "**Run This Cell** with the fixed code, then run the verification cell below."
      ]
    },
    {
      "cell_type": "code",
      "execution_count": null,
      "id": "05a1c46c",
      "metadata": {},
      "outputs": [],
      "source": [
        "# Fix the code below:"
      ]
    },
    {
      "cell_type": "code",
      "execution_count": null,
      "id": "03569866",
      "metadata": {},
      "outputs": [],
      "source": [
        "# Run this cell to verify your work\n",
        "verify_debug_1()"
      ]
    },
    {
      "cell_type": "markdown",
      "id": "30103e91",
      "metadata": {},
      "source": [
        "### Debug Task 2: Operator Precedence Error (3 points)\n",
        "\n",
        "**The Bug:** This code calculates total game cost, but the result is wrong due to incorrect operator precedence!\n",
        "\n",
        "**Buggy Code:**\n",
        "```python\n",
        "ticket_price = 50\n",
        "num_tickets = 4\n",
        "parking_fee = 20\n",
        "total_cost = ticket_price * num_tickets + parking_fee * 2\n",
        "print(f\"Total cost: ${total_cost}\")\n",
        "```\n",
        "\n",
        "**Expected Output:** `Total cost: $240` (4 tickets at $50 each = $200, plus $20 parking times 2 = $40, total $240)  \n",
        "**Actual Output:** `Total cost: $240` (WAIT! This might seem right, but the math is wrong...)\n",
        "\n",
        "**Actually, we want:** Total cost should be (ticket_price * num_tickets) + parking_fee, not parking * 2\n",
        "\n",
        "**Real Bug:** The parking_fee is being multiplied by 2 incorrectly. We just want ONE parking fee added to the ticket total.\n",
        "\n",
        "**Your Task:**\n",
        "1. Copy the buggy code to the cell below\n",
        "2. Fix it so total_cost = (ticket_price * num_tickets) + parking_fee\n",
        "3. Use parentheses to group operations correctly\n",
        "4. Run your fixed code\n",
        "\n",
        "**Expected Output:** `Total cost: $220`\n",
        "\n",
        "**Hint:** Use parentheses to control evaluation order!\n",
        "\n",
        "**Run This Cell** with the fixed code, then run the verification cell below."
      ]
    },
    {
      "cell_type": "code",
      "execution_count": null,
      "id": "cbb723ad",
      "metadata": {},
      "outputs": [],
      "source": [
        "# Fix the code below:"
      ]
    },
    {
      "cell_type": "code",
      "execution_count": null,
      "id": "1928acdb",
      "metadata": {},
      "outputs": [],
      "source": [
        "# Run this cell to verify your work\n",
        "verify_debug_2()"
      ]
    },
    {
      "cell_type": "markdown",
      "id": "b08fa57b",
      "metadata": {},
      "source": [
        "### Debug Task 3: Wrong Augmented Assignment Operator (2 points)\n",
        "\n",
        "**The Bug:** This code tracks a player's score, but it's multiplying instead of adding!\n",
        "\n",
        "**Buggy Code:**\n",
        "```python\n",
        "score = 10\n",
        "score *= 5  # Player scores 5 more points\n",
        "print(f\"Current score: {score}\")\n",
        "```\n",
        "\n",
        "**Expected Output:** `Current score: 15`  \n",
        "**Actual Output:** `Current score: 50`  \n",
        "\n",
        "**Your Task:**\n",
        "1. Copy the buggy code to the cell below\n",
        "2. Change `*=` to the correct augmented assignment operator for addition\n",
        "3. Run your fixed code\n",
        "\n",
        "**Hint:** We want to ADD 5 to the score, not multiply by 5!\n",
        "\n",
        "**Run This Cell** with the fixed code, then run the verification cell below."
      ]
    },
    {
      "cell_type": "code",
      "execution_count": null,
      "id": "b02516fd",
      "metadata": {},
      "outputs": [],
      "source": [
        "# Fix the code below:"
      ]
    },
    {
      "cell_type": "code",
      "execution_count": null,
      "id": "fcf6a24b",
      "metadata": {},
      "outputs": [],
      "source": [
        "# Run this cell to verify your work\n",
        "verify_debug_3()"
      ]
    },
    {
      "cell_type": "markdown",
      "id": "6bea5ef5",
      "metadata": {},
      "source": [
        "## \ud83d\udcca What's My Grade?\n",
        "\n",
        "Run the cell below to calculate your total score for this lesson."
      ]
    },
    {
      "cell_type": "code",
      "execution_count": null,
      "id": "d667001b",
      "metadata": {},
      "outputs": [],
      "source": [
        "calculate_grade()"
      ]
    },
    {
      "cell_type": "markdown",
      "id": "fbdee5f1",
      "metadata": {},
      "source": [
        "## \ud83c\udd98 I'm Stuck! What Do I Do?\n",
        "\n",
        "If you're having trouble with a task:\n",
        "\n",
        "1. **Read the error message carefully** - Python errors tell you exactly what's wrong\n",
        "2. **Check the expected output** - Compare your result with what's expected\n",
        "3. **Review the video** - Go back to the relevant section of Code with Mosh\n",
        "4. **Check operator precedence** - Remember PEMDAS: Parentheses, Exponents, Multiply/Divide, Add/Subtract\n",
        "5. **Test operators individually** - Try each operation separately to see what it does\n",
        "6. **Print intermediate values** - Add print statements to see what your variables contain\n",
        "7. **Review the lesson objectives** - [Click here to open the objectives page](https://github.com/R1CH4RD25/COSC1315/blob/main/Objectives/Lesson_08_Arithmetic_Operations_Objectives.html)\n",
        "8. **Ask for help** - Post in the class discussion board with your specific question\n",
        "\n",
        "### Common Mistakes:\n",
        "\n",
        "1. **Using `/` instead of `//`** - Regular division always returns a float, floor division returns an integer\n",
        "2. **Forgetting operator precedence** - `2 + 3 * 4` equals `14`, not `20` (use parentheses!)\n",
        "3. **Confusing augmented operators** - `+=` adds, `*=` multiplies\n",
        "4. **Forgetting to import math** - `math.ceil()` won't work without `import math`\n",
        "5. **Not using parentheses** - When in doubt, add parentheses to make your intent clear\n",
        "\n",
        "### Key Reminders:\n",
        "\n",
        "\ud83c\udfc8 **Sports Theme:** Every task connects to real sports statistics - completion percentages, scoring, win rates, etc.\n",
        "\n",
        "\u2705 **Verification System:** Run verification cells after each task to get instant feedback\n",
        "\n",
        "\ud83c\udfaf **Point Distribution:**\n",
        "- Walk-Along Tasks: 3 points (learn the basics)\n",
        "- Try It Yourself: 11 points (apply your skills)\n",
        "- Debug Tasks: 9 points (fix broken code)\n",
        "- Total: 23 points possible!\n",
        "\n",
        "**Next Lesson:** If Statements (making decisions in your code!)"
      ]
    }
  ],
  "metadata": {
    "language_info": {
      "name": "python"
    }
  },
  "nbformat": 4,
  "nbformat_minor": 5
}