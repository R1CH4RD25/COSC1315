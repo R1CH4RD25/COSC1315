{
  "cells": [
    {
      "cell_type": "markdown",
      "id": "e3f28390",
      "metadata": {},
      "source": [
        "# Lesson 07: Formatted Strings & String Methods\n",
        "\n",
        "**Video Source:** [Code with Mosh - Python Tutorial](https://www.youtube.com/watch?v=_uQrJ0TkZlc&t=37m28s)  \n",
        "**Time Range:** 37:28 - 48:32\n",
        "\n",
        "---"
      ]
    },
    {
      "cell_type": "markdown",
      "id": "87fcaf37",
      "metadata": {},
      "source": [
        "## \ud83d\udcda Objectives and Learning Goals\n",
        "\n",
        "By the end of this lesson, you will be able to:\n",
        "\n",
        "- **Create formatted strings** using f-strings with the `f` prefix\n",
        "- **Embed variables** in strings using curly braces `{}`\n",
        "- **Compare concatenation vs. f-strings** for code readability\n",
        "- **Use string methods** like `.upper()`, `.lower()`, `.title()`, `.strip()`\n",
        "- **Understand string immutability** and how methods return new strings\n",
        "- **Visualize output** more easily with f-string syntax\n",
        "\n",
        "### Key Concepts:\n",
        "\n",
        "- **F-strings** are prefixed with `f` before the opening quote\n",
        "- Use **curly braces `{}`** to create placeholders for variables\n",
        "- F-strings make complex output **easier to visualize** than concatenation\n",
        "- String methods **return new strings** - they don't modify originals\n",
        "- Methods require **parentheses**: `.upper()` not `.upper`\n",
        "- F-strings can contain any Python expression inside `{}`"
      ]
    },
    {
      "cell_type": "markdown",
      "id": "b476d89a",
      "metadata": {},
      "source": [
        "## \u2699\ufe0f Run This First - Setup\n",
        "\n",
        "**Important:** Run this cell first to load the verification system!\n",
        "\n",
        "This cell downloads the verification functions from GitHub."
      ]
    },
    {
      "cell_type": "code",
      "execution_count": null,
      "id": "a8d7407d",
      "metadata": {},
      "outputs": [],
      "source": [
        "import urllib.request\n",
        "import os\n",
        "\n",
        "url = 'https://raw.githubusercontent.com/R1CH4RD25/COSC1315/main/Lessons/Verifications/lesson_07_verification.py'\n",
        "filename = 'lesson_07_verification.py'\n",
        "\n",
        "print('Downloading verification file...')\n",
        "urllib.request.urlretrieve(url, filename)\n",
        "\n",
        "# Verify download\n",
        "if os.path.exists(filename):\n",
        "    print(f'\u2705 Downloaded {filename} successfully!')\n",
        "    print(f'File size: {os.path.getsize(filename)} bytes')\n",
        "\n",
        "# Show current directory and files (for debugging)\n",
        "print(f'Current directory: {os.getcwd()}')\n",
        "print(f'Files in directory: {os.listdir()}')\n",
        "\n",
        "# Add current directory to Python path\n",
        "import sys\n",
        "if os.getcwd() not in sys.path:\n",
        "    sys.path.insert(0, os.getcwd())\n",
        "\n",
        "# Import verification functions\n",
        "from lesson_07_verification import (\n",
        "    verify_walk_along_1,\n",
        "    verify_walk_along_2,\n",
        "    verify_try_it_yourself_1,\n",
        "    verify_try_it_yourself_2,\n",
        "    verify_try_it_yourself_3,\n",
        "    verify_debug_1,\n",
        "    verify_debug_2,\n",
        "    verify_debug_3,\n",
        "    calculate_grade\n",
        ")\n",
        "\n",
        "print('\u2705 Setup complete! You\\'re ready to start coding.')"
      ]
    },
    {
      "cell_type": "markdown",
      "id": "23b18fa6",
      "metadata": {},
      "source": [
        "## \ud83d\udcfa Walk-Along Tasks\n",
        "\n",
        "**Instructions:** Follow along with the Code with Mosh video. Type the code yourself in each cell below.\n",
        "\n",
        "**Total Points:** 4 points (2 points per task)\n",
        "\n",
        "---"
      ]
    },
    {
      "cell_type": "markdown",
      "id": "0a04e512",
      "metadata": {},
      "source": [
        "### Walk-Along Task 1: String Concatenation (2 points)\n",
        "\n",
        "**Goal:** Create a message by concatenating strings with the `+` operator.\n",
        "\n",
        "**Instructions:**\n",
        "1. Create variables `first = \"John\"` and `last = \"Smith\"`\n",
        "2. Create a variable `message` that concatenates: first + \" [\" + last + \"] is a coder\"\n",
        "3. Print the `message`\n",
        "\n",
        "**Expected Output:** `John [Smith] is a coder`\n",
        "\n",
        "**Run This Cell** to complete the task, then run the verification cell below."
      ]
    },
    {
      "cell_type": "code",
      "execution_count": null,
      "id": "50bbb4c8",
      "metadata": {},
      "outputs": [],
      "source": [
        "# Type your code below:"
      ]
    },
    {
      "cell_type": "code",
      "execution_count": null,
      "id": "57e64484",
      "metadata": {},
      "outputs": [],
      "source": [
        "# Run this cell to verify your work\n",
        "verify_walk_along_1()"
      ]
    },
    {
      "cell_type": "markdown",
      "id": "fd48d28a",
      "metadata": {},
      "source": [
        "### Walk-Along Task 2: F-Strings (2 points)\n",
        "\n",
        "**Goal:** Use formatted strings (f-strings) to create the same output more elegantly.\n",
        "\n",
        "**Instructions:**\n",
        "1. Keep the `first` and `last` variables from Task 1 (or recreate them)\n",
        "2. Create a variable `msg` using an f-string: `f\"{first} [{last}] is a coder\"`\n",
        "3. Print the `msg`\n",
        "\n",
        "**Remember:** Prefix with `f` and use curly braces `{}` for placeholders!\n",
        "\n",
        "**Expected Output:** `John [Smith] is a coder`\n",
        "\n",
        "**Run This Cell** to complete the task, then run the verification cell below."
      ]
    },
    {
      "cell_type": "code",
      "execution_count": null,
      "id": "7d393825",
      "metadata": {},
      "outputs": [],
      "source": [
        "# Type your code below:"
      ]
    },
    {
      "cell_type": "code",
      "execution_count": null,
      "id": "5419b3ab",
      "metadata": {},
      "outputs": [],
      "source": [
        "# Run this cell to verify your work\n",
        "verify_walk_along_2()"
      ]
    },
    {
      "cell_type": "markdown",
      "id": "45e1227f",
      "metadata": {},
      "source": [
        "### Try It Yourself 1: Player Stats with F-Strings (6 points)\n",
        "\n",
        "**Goal:** Use f-strings to create a formatted player statistics report.\n",
        "\n",
        "**Scenario:** You're building a sports stats system. Create a formatted output showing player performance.\n",
        "\n",
        "**Instructions:**\n",
        "1. Create variables for player data:\n",
        "   - `player_name = \"LeBron James\"`\n",
        "   - `points = 38`\n",
        "   - `rebounds = 12`\n",
        "   - `assists = 7`\n",
        "2. Create a variable `stats_report` using an f-string:\n",
        "   - Format: `f\"{player_name} scored {points} points, grabbed {rebounds} rebounds, and had {assists} assists.\"`\n",
        "3. Print `stats_report`\n",
        "\n",
        "**Requirements:**\n",
        "- Must use an f-string (not concatenation)\n",
        "- All four variables must be embedded in the f-string\n",
        "- Must print the complete sentence\n",
        "\n",
        "**Expected Output:**\n",
        "```\n",
        "LeBron James scored 16 points, grabbed 12 rebounds, and had 7 assists.\n",
        "```\n",
        "\n",
        "**Run This Cell** to complete the task, then run the verification cell below."
      ]
    },
    {
      "cell_type": "code",
      "execution_count": null,
      "id": "910f544a",
      "metadata": {},
      "outputs": [],
      "source": [
        "# Type your code below:"
      ]
    },
    {
      "cell_type": "code",
      "execution_count": null,
      "id": "f8d0b5e7",
      "metadata": {},
      "outputs": [],
      "source": [
        "# Run this cell to verify your work\n",
        "verify_try_it_yourself_1()"
      ]
    },
    {
      "cell_type": "markdown",
      "id": "f8b2a9d6",
      "metadata": {},
      "source": [
        "### Try It Yourself 2: Multi-Line Team Roster (6 points)\n",
        "\n",
        "**Goal:** Use triple-quoted f-strings to create a multi-line formatted roster.\n",
        "\n",
        "**Scenario:** Create a formatted team roster display with multiple players.\n",
        "\n",
        "**Instructions:**\n",
        "1. Create variables:\n",
        "   - `team_name = \"Lakers\"`\n",
        "   - `player1 = \"LeBron James\"`\n",
        "   - `player2 = \"Anthony Davis\"`\n",
        "   - `player3 = \"Austin Reeves\"`\n",
        "2. Create a `roster` variable using a **triple-quoted f-string** (`f\"\"\"...\"\"\"`):\n",
        "```python\n",
        "roster = f\"\"\"\n",
        "=== {team_name} Roster ===\n",
        "1. {player1}\n",
        "2. {player2}\n",
        "3. {player3}\n",
        "\"\"\"\n",
        "```\n",
        "3. Print `roster`\n",
        "\n",
        "**Requirements:**\n",
        "- Must use triple-quoted f-string (f\"\"\"...\"\"\")\n",
        "- Must embed all variables\n",
        "- Output should span multiple lines\n",
        "\n",
        "**Run This Cell** to complete the task, then run the verification cell below."
      ]
    },
    {
      "cell_type": "code",
      "execution_count": null,
      "id": "47284c64",
      "metadata": {},
      "outputs": [],
      "source": [
        "# Type your code below:"
      ]
    },
    {
      "cell_type": "code",
      "execution_count": null,
      "id": "778db061",
      "metadata": {},
      "outputs": [],
      "source": [
        "# Run this cell to verify your work\n",
        "verify_try_it_yourself_2()"
      ]
    },
    {
      "cell_type": "markdown",
      "id": "c35f4fe4",
      "metadata": {},
      "source": [
        "### Try It Yourself 3: Score Calculator with Formatting (9 points)\n",
        "\n",
        "**Goal:** Use f-strings with expressions to calculate and format game scores.\n",
        "\n",
        "**Scenario:** Calculate total points and display a formatted scoreboard.\n",
        "\n",
        "**Instructions:**\n",
        "1. Create variables:\n",
        "   - `touchdowns = 4`\n",
        "   - `field_goals = 2`\n",
        "2. Calculate points (touchdowns worth 6 each, field goals worth 3 each)\n",
        "3. Create a variable `scoreboard` using an f-string **with inline calculations**:\n",
        "   - Format: `f\"Touchdowns: {touchdowns} \u00d7 6 = {touchdowns * 6} pts | Field Goals: {field_goals} \u00d7 3 = {field_goals * 3} pts | Total: {touchdowns * 6 + field_goals * 3} pts\"`\n",
        "4. Print `scoreboard`\n",
        "\n",
        "**Requirements:**\n",
        "- Must use f-string with inline math expressions\n",
        "- Must calculate inside the f-string (not before)\n",
        "- Must show breakdown and total\n",
        "\n",
        "**Expected Output:**\n",
        "```\n",
        "Touchdowns: 4 \u00d7 6 = 24 pts | Field Goals: 2 \u00d7 3 = 6 pts | Total: 30 pts\n",
        "```\n",
        "\n",
        "**Run This Cell** to complete the task, then run the verification cell below."
      ]
    },
    {
      "cell_type": "code",
      "execution_count": null,
      "id": "5cbaece2",
      "metadata": {},
      "outputs": [],
      "source": [
        "# Type your code below:"
      ]
    },
    {
      "cell_type": "code",
      "execution_count": null,
      "id": "0d4edb04",
      "metadata": {},
      "outputs": [],
      "source": [
        "# Run this cell to verify your work\n",
        "verify_try_it_yourself_3()"
      ]
    },
    {
      "cell_type": "markdown",
      "id": "07bd99ef",
      "metadata": {},
      "source": [
        "## \ud83c\udfaf Try It Yourself\n",
        "\n",
        "**Instructions:** Use what you learned to solve these challenges independently.\n",
        "\n",
        "**Total Points:** 24 points\n",
        "\n",
        "---"
      ]
    },
    {
      "cell_type": "markdown",
      "id": "0af0e973",
      "metadata": {},
      "source": [
        "### Debug Task 1: Missing F-String Prefix (6 points)\n",
        "\n",
        "**The Bug:** This code is supposed to use an f-string, but the variables aren't being replaced!\n",
        "\n",
        "**Buggy Code:**\n",
        "```python\n",
        "name = \"Curry\"\n",
        "points = 30\n",
        "message = \"{name} scored {points} points\"\n",
        "print(message)\n",
        "```\n",
        "\n",
        "**Expected Output:** `Curry scored 13 points`  \n",
        "**Actual Output:** `{name} scored {points} points`  \n",
        "\n",
        "**Your Task:**\n",
        "1. Copy the buggy code to the cell below\n",
        "2. Add the missing `f` prefix to make it an f-string\n",
        "3. Run your fixed code\n",
        "\n",
        "**Hint:** F-strings need the `f` prefix before the opening quote!\n",
        "\n",
        "**Run This Cell** with the fixed code, then run the verification cell below."
      ]
    },
    {
      "cell_type": "code",
      "execution_count": null,
      "id": "c4aa64c9",
      "metadata": {},
      "outputs": [],
      "source": [
        "## \ud83d\udc1e Debug the Bug\n",
        "\n",
        "**Instructions:** Each task has code with a bug. Find and fix the error!\n",
        "\n",
        "**Total Points:** 40 points\n",
        "\n",
        "---"
      ]
    },
    {
      "cell_type": "code",
      "execution_count": null,
      "id": "38e4a890",
      "metadata": {},
      "outputs": [],
      "source": [
        "# Run this cell to verify your work\n",
        "verify_debug_1()"
      ]
    },
    {
      "cell_type": "markdown",
      "id": "43dd8970",
      "metadata": {},
      "source": [
        "### Debug Task 2: Concatenation Type Mismatch (4 points)\n",
        "\n",
        "**The Bug:** This code tries to concatenate strings and numbers, causing a TypeError!\n",
        "\n",
        "**Buggy Code:**\n",
        "```python\n",
        "team = \"Cowboys\"\n",
        "wins = 12\n",
        "summary = team + \" have \" + wins + \" wins\"\n",
        "print(summary)\n",
        "```\n",
        "\n",
        "**Error:** `TypeError: can only concatenate str (not \"int\") to str`\n",
        "\n",
        "**Expected Output:** `Cowboys have 12 wins`  \n",
        "\n",
        "**Your Task:**\n",
        "1. Copy the buggy code to the cell below\n",
        "2. Convert it to use an f-string instead of concatenation\n",
        "3. Run your fixed code\n",
        "\n",
        "**Hint:** F-strings automatically convert numbers to strings!\n",
        "\n",
        "**Run This Cell** with the fixed code, then run the verification cell below."
      ]
    },
    {
      "cell_type": "code",
      "execution_count": null,
      "id": "ce18418a",
      "metadata": {},
      "outputs": [],
      "source": [
        "# Fix the code below:"
      ]
    },
    {
      "cell_type": "code",
      "execution_count": null,
      "id": "2b7d6e69",
      "metadata": {},
      "outputs": [],
      "source": [
        "# Run this cell to verify your work\n",
        "verify_debug_2()"
      ]
    },
    {
      "cell_type": "markdown",
      "id": "71a6ef77",
      "metadata": {},
      "source": [
        "### Debug Task 3: Wrong Quote Type in F-String (6 points)\n",
        "\n",
        "**The Bug:** This code has a syntax error because the inner quotes conflict with the outer quotes!\n",
        "\n",
        "**Buggy Code:**\n",
        "```python\n",
        "player = \"Tom Brady\"\n",
        "message = f\"The player's name is \"{player}\"\"\n",
        "print(message)\n",
        "```\n",
        "\n",
        "**Error:** `SyntaxError: invalid syntax`\n",
        "\n",
        "**Expected Output:** `The player's name is \"Tom Brady\"`  \n",
        "\n",
        "**Your Task:**\n",
        "1. Copy the buggy code to the cell below\n",
        "2. Fix the quote mismatch by using single quotes for the outer f-string\n",
        "3. Run your fixed code\n",
        "\n",
        "**Hint:** If you use double quotes inside, use single quotes for the f-string: `f'...'`\n",
        "\n",
        "**Run This Cell** with the fixed code, then run the verification cell below."
      ]
    },
    {
      "cell_type": "code",
      "execution_count": null,
      "id": "d4b299bc",
      "metadata": {},
      "outputs": [],
      "source": [
        "# Fix the code below:"
      ]
    },
    {
      "cell_type": "code",
      "execution_count": null,
      "id": "65a15de5",
      "metadata": {},
      "outputs": [],
      "source": [
        "# Run this cell to verify your work\n",
        "verify_debug_3()"
      ]
    },
    {
      "cell_type": "markdown",
      "id": "23076adb",
      "metadata": {},
      "source": [
        "## \ud83d\udcca What's My Grade?\n",
        "\n",
        "Run the cell below to calculate your total score for this lesson."
      ]
    },
    {
      "cell_type": "code",
      "execution_count": null,
      "id": "57e2e347",
      "metadata": {},
      "outputs": [],
      "source": [
        "calculate_grade()"
      ]
    },
    {
      "cell_type": "markdown",
      "id": "b0e15041",
      "metadata": {},
      "source": [
        "## \ud83c\udd98 I'm Stuck! What Do I Do?\n",
        "\n",
        "If you're having trouble with a task:\n",
        "\n",
        "1. **Read the error message carefully** - Python errors tell you exactly what's wrong\n",
        "2. **Check the instructions** - Did you follow all the steps?\n",
        "3. **Review the walk-along examples** - How did Mosh do it in the video?\n",
        "4. **Check your syntax:**\n",
        "   - Did you add the `f` prefix? `f\"text {variable}\"`\n",
        "   - Are your quotes matched correctly?\n",
        "   - Did you use curly braces `{}` for variables?\n",
        "5. **Test in small steps** - Try printing intermediate results\n",
        "6. **Ask for help** - Use Canvas discussions or office hours\n",
        "\n",
        "### Common F-String Mistakes:\n",
        "\n",
        "- **Forgetting the `f` prefix:** `\"{name}\"` won't work, use `f\"{name}\"`\n",
        "- **Mixing quotes:** If you use `\"` inside, use `'` outside: `f'He said \"{quote}\"'`\n",
        "- **Concatenating numbers:** Use f-strings instead: `f\"Age: {age}\"` not `\"Age: \" + age`\n",
        "- **Wrong braces:** Use `{}` not `[]` or `()` for variables in f-strings"
      ]
    },
    {
      "cell_type": "markdown",
      "id": "bab4ca5a",
      "metadata": {},
      "source": [
        "## \ud83c\udfaf Key Takeaways\n",
        "\n",
        "After completing this lesson, you should understand:\n",
        "\n",
        "1. **String concatenation** - Joining strings with `+` operator\n",
        "2. **F-strings are cleaner** - `f\"{name}\"` is better than `\"name: \" + name`\n",
        "3. **F-strings auto-convert** - Numbers automatically become strings\n",
        "4. **Triple quotes for multi-line** - Use `f\"\"\"...\"\"\"` for multiple lines\n",
        "5. **Inline expressions work** - Can do math inside: `f\"{price * quantity}\"`\n",
        "6. **Quote mixing** - Use `f'...'` when you need `\"` inside\n",
        "\n",
        "**Next Lesson:** Arithmetic Operations (learn to do math with Python!)"
      ]
    }
  ],
  "metadata": {
    "language_info": {
      "name": "python"
    }
  },
  "nbformat": 4,
  "nbformat_minor": 5
}