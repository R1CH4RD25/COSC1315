{
 "cells": [
  {
   "cell_type": "markdown",
   "id": "e3f28390",
   "metadata": {},
   "source": [
    "# Lesson 06: Strings\n",
    "\n",
    "**Video Source:** [Code with Mosh - Python Tutorial](https://www.youtube.com/watch?v=_uQrJ0TkZlc&t=29m28s)  \n",
    "**Time Range:** 29:28 - 37:28\n",
    "\n",
    "---"
   ]
  },
  {
   "cell_type": "markdown",
   "id": "87fcaf37",
   "metadata": {},
   "source": [
    "## 📚 Objectives and Learning Goals\n",
    "\n",
    "By the end of this lesson, you will be able to:\n",
    "\n",
    "- **Create and manipulate strings** using single quotes, double quotes, and triple quotes\n",
    "- **Access individual characters** using indexing with `[]` notation\n",
    "- **Extract substrings** using slicing with `[start:end]` notation\n",
    "- **Use string methods** like `.upper()`, `.lower()`, `.find()`, and `.replace()`\n",
    "- **Format strings** using f-strings for clean, readable output\n",
    "- **Understand string immutability** and how methods return new strings\n",
    "\n",
    "### Key Concepts:\n",
    "\n",
    "- Strings are **immutable** - methods return new strings, don't modify originals\n",
    "- Python uses **zero-based indexing** - first character is at index `0`\n",
    "- **Negative indices** count from the end: `-1` is last character\n",
    "- **Slicing** `[start:end]` is exclusive of the end index\n",
    "- String methods like `.upper()` don't change the original string\n",
    "- F-strings provide cleaner formatting than concatenation"
   ]
  },
  {
   "cell_type": "markdown",
   "id": "b476d89a",
   "metadata": {},
   "source": [
    "## ⚙️ Run This First - Setup\n",
    "\n",
    "**Important:** Run this cell first to load the verification system!\n",
    "\n",
    "This cell downloads the verification functions from GitHub."
   ]
  },
  {
   "cell_type": "code",
   "execution_count": null,
   "id": "a8d7407d",
   "metadata": {},
   "outputs": [],
   "source": [
    "import urllib.request\n",
    "import os\n",
    "\n",
    "url = 'https://raw.githubusercontent.com/R1CH4RD25/COSC1315/main/Lessons/Verifications/lesson_06_verification.py'\n",
    "filename = 'lesson_06_verification.py'\n",
    "\n",
    "print('Downloading verification file...')\n",
    "urllib.request.urlretrieve(url, filename)\n",
    "\n",
    "# Verify download\n",
    "if os.path.exists(filename):\n",
    "    print(f'✅ Downloaded {filename} successfully!')\n",
    "    print(f'File size: {os.path.getsize(filename)} bytes')\n",
    "\n",
    "# Show current directory and files (for debugging)\n",
    "print(f'Current directory: {os.getcwd()}')\n",
    "print(f'Files in directory: {os.listdir()}')\n",
    "\n",
    "# Add current directory to Python path\n",
    "import sys\n",
    "if os.getcwd() not in sys.path:\n",
    "    sys.path.insert(0, os.getcwd())\n",
    "\n",
    "# Import verification functions\n",
    "from lesson_06_verification import (\n",
    "    verify_walk_along_1,\n",
    "    verify_walk_along_2,\n",
    "    verify_walk_along_3,\n",
    "    verify_try_it_yourself_1,\n",
    "    verify_try_it_yourself_2,\n",
    "    verify_try_it_yourself_3,\n",
    "    verify_debug_1,\n",
    "    verify_debug_2,\n",
    "    verify_debug_3,\n",
    "    calculate_grade\n",
    ")\n",
    "\n",
    "print('✅ Setup complete! You\\'re ready to start coding.')"
   ]
  },
  {
   "cell_type": "markdown",
   "id": "23b18fa6",
   "metadata": {},
   "source": [
    "## 📺 Walk-Along Tasks\n",
    "\n",
    "**Instructions:** Follow along with the Code with Mosh video. Type the code yourself in each cell below.\n",
    "\n",
    "**Total Points:** 15 points (5 points per task)\n",
    "\n",
    "---"
   ]
  },
  {
   "cell_type": "markdown",
   "id": "0a04e512",
   "metadata": {},
   "source": [
    "### Walk-Along Task 1: String Methods (5 points)\n",
    "\n",
    "**Goal:** Learn to use basic string methods to manipulate text.\n",
    "\n",
    "**Instructions:**\n",
    "1. Create a variable `course` and set it to `\"Python for Beginners\"`\n",
    "2. Print `course.upper()` to see the uppercase version\n",
    "3. Print `course.lower()` to see the lowercase version\n",
    "4. Print `course.find(\"Python\")` to find where \"Python\" starts\n",
    "5. Print `\"Python\" in course` to check if \"Python\" exists in the string\n",
    "\n",
    "**Run This Cell** to complete the task, then run the verification cell below."
   ]
  },
  {
   "cell_type": "code",
   "execution_count": null,
   "id": "50bbb4c8",
   "metadata": {},
   "outputs": [],
   "source": [
    "# Type your code below:"
   ]
  },
  {
   "cell_type": "code",
   "execution_count": null,
   "id": "57e64484",
   "metadata": {},
   "outputs": [],
   "source": [
    "# Run this cell to verify your work\n",
    "verify_walk_along_1()"
   ]
  },
  {
   "cell_type": "markdown",
   "id": "fd48d28a",
   "metadata": {},
   "source": [
    "### Walk-Along Task 2: String Indexing (5 points)\n",
    "\n",
    "**Goal:** Access individual characters using positive and negative indices.\n",
    "\n",
    "**Instructions:**\n",
    "1. Keep the `course` variable from Task 1 (or recreate it)\n",
    "2. Print `course[0]` to get the first character\n",
    "3. Print `course[-1]` to get the last character\n",
    "4. Try printing `course[1]` to see the second character\n",
    "\n",
    "**Remember:** Python uses zero-based indexing. The first character is at index 0!\n",
    "\n",
    "**Run This Cell** to complete the task, then run the verification cell below."
   ]
  },
  {
   "cell_type": "code",
   "execution_count": null,
   "id": "7d393825",
   "metadata": {},
   "outputs": [],
   "source": [
    "# Type your code below:"
   ]
  },
  {
   "cell_type": "code",
   "execution_count": null,
   "id": "5419b3ab",
   "metadata": {},
   "outputs": [],
   "source": [
    "# Run this cell to verify your work\n",
    "verify_walk_along_2()"
   ]
  },
  {
   "cell_type": "markdown",
   "id": "31fc8997",
   "metadata": {},
   "source": [
    "### Walk-Along Task 3: String Slicing (5 points)\n",
    "\n",
    "**Goal:** Extract substrings using slice notation.\n",
    "\n",
    "**Instructions:**\n",
    "1. Use the `course` variable: `\"Python for Beginners\"`\n",
    "2. Print `course[0:6]` to extract \"Python\"\n",
    "3. Print `course[:6]` (same result - start defaults to 0)\n",
    "4. Print `course[7:]` to extract \"for Beginners\"\n",
    "5. Print `course[:]` to copy the entire string\n",
    "\n",
    "**Remember:** Slicing `[start:end]` includes `start` but excludes `end`!\n",
    "\n",
    "**Run This Cell** to complete the task, then run the verification cell below."
   ]
  },
  {
   "cell_type": "code",
   "execution_count": null,
   "id": "266ea752",
   "metadata": {},
   "outputs": [],
   "source": [
    "# Type your code below:"
   ]
  },
  {
   "cell_type": "code",
   "execution_count": null,
   "id": "0f47f1b0",
   "metadata": {},
   "outputs": [],
   "source": [
    "# Run this cell to verify your work\n",
    "verify_walk_along_3()"
   ]
  },
  {
   "cell_type": "markdown",
   "id": "5fc73d48",
   "metadata": {},
   "source": [
    "## 🎯 Try It Yourself\n",
    "\n",
    "**Instructions:** Use what you learned to solve these challenges independently.\n",
    "\n",
    "**Total Points:** 45 points\n",
    "\n",
    "---"
   ]
  },
  {
   "cell_type": "markdown",
   "id": "45e1227f",
   "metadata": {},
   "source": [
    "### Try It Yourself 1: Player Name Formatter (15 points)\n",
    "\n",
    "**Goal:** Create a program that formats player names for jersey display.\n",
    "\n",
    "**Scenario:** You're creating a program for the team equipment manager. Player names need to be displayed in UPPERCASE on jerseys.\n",
    "\n",
    "**Instructions:**\n",
    "1. Create a variable `player_name` and set it to any player name (e.g., `\"Curry\"`)\n",
    "2. Create a variable `jersey_name` that converts `player_name` to uppercase\n",
    "3. Print the `jersey_name` with a message like: `\"Jersey will display: CURRY\"`\n",
    "\n",
    "**Requirements:**\n",
    "- Variable `player_name` must exist\n",
    "- Variable `jersey_name` must be uppercase version\n",
    "- Must use `.upper()` method\n",
    "- Must print the result\n",
    "\n",
    "**Run This Cell** to complete the task, then run the verification cell below."
   ]
  },
  {
   "cell_type": "code",
   "execution_count": null,
   "id": "910f544a",
   "metadata": {},
   "outputs": [],
   "source": [
    "# Type your code below:"
   ]
  },
  {
   "cell_type": "code",
   "execution_count": null,
   "id": "f8d0b5e7",
   "metadata": {},
   "outputs": [],
   "source": [
    "# Run this cell to verify your work\n",
    "verify_try_it_yourself_1()"
   ]
  },
  {
   "cell_type": "markdown",
   "id": "f8b2a9d6",
   "metadata": {},
   "source": [
    "### Try It Yourself 2: Team Chant Generator (15 points)\n",
    "\n",
    "**Goal:** Create a program that generates team chants from team names.\n",
    "\n",
    "**Scenario:** The crowd wants to chant! Extract the first 3 letters of a team name and repeat it 3 times.\n",
    "\n",
    "**Example:**\n",
    "- Team: \"WARRIORS\" → Chant: \"WAR WAR WAR!\"\n",
    "- Team: \"COWBOYS\" → Chant: \"COW COW COW!\"\n",
    "\n",
    "**Instructions:**\n",
    "1. Create a variable `team_name` and set it to a team name in UPPERCASE (e.g., `\"WARRIORS\"`)\n",
    "2. Create a variable `chant_part` that extracts the first 3 letters using slicing\n",
    "3. Create a variable `full_chant` that repeats `chant_part` 3 times with spaces and adds \"!\"\n",
    "4. Print the `full_chant`\n",
    "\n",
    "**Requirements:**\n",
    "- Variable `team_name` must exist (all uppercase)\n",
    "- Variable `chant_part` must be first 3 letters\n",
    "- Variable `full_chant` must repeat 3 times with spaces\n",
    "- Must use slicing `[:3]`\n",
    "- Must print the result\n",
    "\n",
    "**Run This Cell** to complete the task, then run the verification cell below."
   ]
  },
  {
   "cell_type": "code",
   "execution_count": null,
   "id": "47284c64",
   "metadata": {},
   "outputs": [],
   "source": [
    "# Type your code below:"
   ]
  },
  {
   "cell_type": "code",
   "execution_count": null,
   "id": "778db061",
   "metadata": {},
   "outputs": [],
   "source": [
    "# Run this cell to verify your work\n",
    "verify_try_it_yourself_2()"
   ]
  },
  {
   "cell_type": "markdown",
   "id": "c35f4fe4",
   "metadata": {},
   "source": [
    "### Try It Yourself 3: Player Stats Display (15 points)\n",
    "\n",
    "**Goal:** Use f-strings to format player statistics for display.\n",
    "\n",
    "**Scenario:** Create a stats display that shows player number, name, and position.\n",
    "\n",
    "**Example Output:**\n",
    "```\n",
    "#23: Jordan - Guard\n",
    "#30: Curry - Guard\n",
    "#34: Giannis - Forward\n",
    "```\n",
    "\n",
    "**Instructions:**\n",
    "1. Create a variable `player_number` with a jersey number (e.g., `23`)\n",
    "2. Create a variable `player_name` with a player name (e.g., `\"Jordan\"`)\n",
    "3. Create a variable `position` with a position (e.g., `\"Guard\"`)\n",
    "4. Create a variable `stats_display` using an **f-string** in this format: `f\"#{player_number}: {player_name} - {position}\"`\n",
    "5. Print `stats_display`\n",
    "\n",
    "**Requirements:**\n",
    "- Variables `player_number`, `player_name`, and `position` must exist\n",
    "- Variable `stats_display` must be an f-string\n",
    "- Format must be: `#[number]: [name] - [position]`\n",
    "- Must print the result\n",
    "\n",
    "**Run This Cell** to complete the task, then run the verification cell below."
   ]
  },
  {
   "cell_type": "code",
   "execution_count": null,
   "id": "5cbaece2",
   "metadata": {},
   "outputs": [],
   "source": [
    "# Type your code below:"
   ]
  },
  {
   "cell_type": "code",
   "execution_count": null,
   "id": "0d4edb04",
   "metadata": {},
   "outputs": [],
   "source": [
    "# Run this cell to verify your work\n",
    "verify_try_it_yourself_3()"
   ]
  },
  {
   "cell_type": "markdown",
   "id": "07bd99ef",
   "metadata": {},
   "source": [
    "## 🐞 Debug the Bug\n",
    "\n",
    "**Instructions:** Each task has code with a bug. Find and fix the error!\n",
    "\n",
    "**Total Points:** 40 points\n",
    "\n",
    "---"
   ]
  },
  {
   "cell_type": "markdown",
   "id": "0af0e973",
   "metadata": {},
   "source": [
    "### Debug Task 1: Off-by-One Index Error (15 points)\n",
    "\n",
    "**The Bug:** This code is supposed to extract \"James\" from \"James Smith\", but it's getting \"ames \" instead!\n",
    "\n",
    "**Buggy Code:**\n",
    "```python\n",
    "name = \"James Smith\"\n",
    "first_name = name[1:6]\n",
    "print(first_name)\n",
    "```\n",
    "\n",
    "**Expected Output:** `James`  \n",
    "**Actual Output:** `ames `  \n",
    "\n",
    "**Your Task:**\n",
    "1. Copy the buggy code to the cell below\n",
    "2. Fix the slicing indices to correctly extract \"James\"\n",
    "3. Run your fixed code\n",
    "\n",
    "**Hint:** Remember that indexing starts at 0, and the first character is `name[0]`.\n",
    "\n",
    "**Run This Cell** with the fixed code, then run the verification cell below."
   ]
  },
  {
   "cell_type": "code",
   "execution_count": null,
   "id": "c4aa64c9",
   "metadata": {},
   "outputs": [],
   "source": [
    "# Fix the code below:"
   ]
  },
  {
   "cell_type": "code",
   "execution_count": null,
   "id": "38e4a890",
   "metadata": {},
   "outputs": [],
   "source": [
    "# Run this cell to verify your work\n",
    "verify_debug_1()"
   ]
  },
  {
   "cell_type": "markdown",
   "id": "43dd8970",
   "metadata": {},
   "source": [
    "### Debug Task 2: Missing Slice End Index (10 points)\n",
    "\n",
    "**The Bug:** This code is supposed to extract the first 4 letters \"COWB\" from \"COWBOYS\", but it's returning the entire string!\n",
    "\n",
    "**Buggy Code:**\n",
    "```python\n",
    "team = \"COWBOYS\"\n",
    "abbreviation = team[:]\n",
    "print(abbreviation)\n",
    "```\n",
    "\n",
    "**Expected Output:** `COWB`  \n",
    "**Actual Output:** `COWBOYS`  \n",
    "\n",
    "**Your Task:**\n",
    "1. Copy the buggy code to the cell below\n",
    "2. Fix the slicing to extract only the first 4 characters\n",
    "3. Run your fixed code\n",
    "\n",
    "**Hint:** `[:]` copies the whole string. You need to specify an end index.\n",
    "\n",
    "**Run This Cell** with the fixed code, then run the verification cell below."
   ]
  },
  {
   "cell_type": "code",
   "execution_count": null,
   "id": "ce18418a",
   "metadata": {},
   "outputs": [],
   "source": [
    "# Fix the code below:"
   ]
  },
  {
   "cell_type": "code",
   "execution_count": null,
   "id": "2b7d6e69",
   "metadata": {},
   "outputs": [],
   "source": [
    "# Run this cell to verify your work\n",
    "verify_debug_2()"
   ]
  },
  {
   "cell_type": "markdown",
   "id": "71a6ef77",
   "metadata": {},
   "source": [
    "### Debug Task 3: Trying to Modify Immutable String (15 points)\n",
    "\n",
    "**The Bug:** This code tries to change the first letter of a name, but strings are immutable in Python!\n",
    "\n",
    "**Buggy Code:**\n",
    "```python\n",
    "name = \"john\"\n",
    "name[0] = \"J\"\n",
    "print(name)\n",
    "```\n",
    "\n",
    "**Error:** `TypeError: 'str' object does not support item assignment`\n",
    "\n",
    "**Expected Output:** `John`  \n",
    "\n",
    "**Your Task:**\n",
    "1. Copy the buggy code to the cell below\n",
    "2. Fix it by creating a new string instead of trying to modify the existing one\n",
    "3. Use slicing and concatenation: `\"J\" + name[1:]`\n",
    "4. Run your fixed code\n",
    "\n",
    "**Hint:** You can't change individual characters in a string. You must create a new string by combining parts.\n",
    "\n",
    "**Run This Cell** with the fixed code, then run the verification cell below."
   ]
  },
  {
   "cell_type": "code",
   "execution_count": null,
   "id": "d4b299bc",
   "metadata": {},
   "outputs": [],
   "source": [
    "# Fix the code below:"
   ]
  },
  {
   "cell_type": "code",
   "execution_count": null,
   "id": "65a15de5",
   "metadata": {},
   "outputs": [],
   "source": [
    "# Run this cell to verify your work\n",
    "verify_debug_3()"
   ]
  },
  {
   "cell_type": "markdown",
   "id": "23076adb",
   "metadata": {},
   "source": [
    "## 📊 What's My Grade?\n",
    "\n",
    "Run the cell below to calculate your total score for this lesson."
   ]
  },
  {
   "cell_type": "code",
   "execution_count": null,
   "id": "57e2e347",
   "metadata": {},
   "outputs": [],
   "source": [
    "calculate_grade()"
   ]
  },
  {
   "cell_type": "markdown",
   "id": "b0e15041",
   "metadata": {},
   "source": [
    "## 🆘 I'm Stuck! What Do I Do?\n",
    "\n",
    "If you're having trouble with a task:\n",
    "\n",
    "1. **Read the error message carefully** - Python errors tell you exactly what's wrong\n",
    "2. **Check the instructions** - Did you follow all the steps?\n",
    "3. **Review the walk-along examples** - How did Mosh do it in the video?\n",
    "4. **Check your syntax:**\n",
    "   - Are your quotes matched? `\"text\"` or `'text'`\n",
    "   - Did you use the right index? Remember: first character is `[0]`\n",
    "   - Is your slicing correct? `[start:end]` where end is exclusive\n",
    "5. **Test in small steps** - Try printing intermediate results\n",
    "6. **Ask for help** - Use Canvas discussions or office hours\n",
    "\n",
    "### Common String Mistakes:\n",
    "\n",
    "- **Off-by-one errors:** Forgetting that indexing starts at 0\n",
    "- **Slice end is exclusive:** `[0:5]` gets indices 0, 1, 2, 3, 4 (not 5!)\n",
    "- **Strings are immutable:** Can't do `name[0] = \"J\"`, must create new string\n",
    "- **Method returns new string:** `name.upper()` doesn't change `name`, need `name = name.upper()`"
   ]
  },
  {
   "cell_type": "markdown",
   "id": "bab4ca5a",
   "metadata": {},
   "source": [
    "## 🎯 Key Takeaways\n",
    "\n",
    "After completing this lesson, you should understand:\n",
    "\n",
    "1. **Strings are immutable** - You can't change them, only create new ones\n",
    "2. **Zero-based indexing** - First character is at index `[0]`, not `[1]`\n",
    "3. **Negative indices** - Count from the end: `[-1]` is the last character\n",
    "4. **Slicing is exclusive** - `[start:end]` includes start but excludes end\n",
    "5. **String methods** - `.upper()`, `.lower()`, `.find()` return new strings\n",
    "6. **F-strings are powerful** - Use `f\"{variable}\"` for clean formatting\n",
    "\n",
    "**Next Lesson:** Formatted Strings and String Methods (more advanced string operations!)"
   ]
  }
 ],
 "metadata": {
  "language_info": {
   "name": "python"
  }
 },
 "nbformat": 4,
 "nbformat_minor": 5
}
