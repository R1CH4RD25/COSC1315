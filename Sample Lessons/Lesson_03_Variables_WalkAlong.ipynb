{
 "cells": [
  {
   "cell_type": "markdown",
   "metadata": {
    "id": "JnlwNIsm-CGL"
   },
   "source": [
    "# Lesson 03: Variables - Walk-Along Tasks\n",
    "\n",
    "**Course:** COSC 1315 - Introduction to Computer Programming  \n",
    "**Source:** Code with Mosh - Python for Beginners  \n",
    "**Video Timestamp:** 11:27–18:16\n",
    "\n",
    "---\n",
    "\n",
    "## Instructions\n",
    "\n",
    "Watch the video and follow along with Mosh as he demonstrates each task. After watching him code, pause the video and type the code yourself in the cells below.\n",
    "\n",
    "**Important:**\n",
    "- Run the setup cell below (Cell 2) FIRST - it will mount Google Drive and load verification\n",
    "- Type the EXACT code that Mosh types (don't skip steps!)\n",
    "- Use `Shift + Enter` to run each cell\n",
    "- Run verification cells to check your work\n",
    "\n",
    "---"
   ]
  },
  {
   "cell_type": "code",
   "execution_count": 7,
   "metadata": {
    "colab": {
     "base_uri": "https://localhost:8080/"
    },
    "executionInfo": {
     "elapsed": 1075,
     "status": "ok",
     "timestamp": 1760989711837,
     "user": {
      "displayName": "Richard Sullivan",
      "userId": "18337589653226615927"
     },
     "user_tz": 300
    },
    "id": "k6YzfnnT-CGN",
    "outputId": "8b72202a-affb-48e5-9c15-3aeed37e5dff"
   },
   "outputs": [
    {
     "name": "stdout",
     "output_type": "stream",
     "text": [
      "📂 Mounting Google Drive...\n",
      "Drive already mounted at /content/drive; to attempt to forcibly remount, call drive.mount(\"/content/drive\", force_remount=True).\n",
      "✅ Verification system loaded!\n",
      "📝 You're ready to start the Walk-Along tasks.\n",
      "\n",
      "💡 Tip: Scroll down to Task 1 and start coding!\n"
     ]
    }
   ],
   "source": [
    "# ========================================\n",
    "# SETUP CELL - RUN THIS FIRST!\n",
    "# ========================================\n",
    "# This cell mounts Google Drive and loads the verification system.\n",
    "# You only need to run it once at the start.\n",
    "\n",
    "from google.colab import drive\n",
    "import sys\n",
    "\n",
    "# Mount Google Drive\n",
    "print(\"📂 Mounting Google Drive...\")\n",
    "drive.mount('/content/drive', force_remount=False)\n",
    "\n",
    "# Add the verification folder to Python path\n",
    "verification_path = '/content/drive/My Drive/Colab Notebooks/COSC1315/Lessons/Verifications'\n",
    "if verification_path not in sys.path:\n",
    "    sys.path.append(verification_path)\n",
    "\n",
    "# Import verification functions\n",
    "try:\n",
    "    from lesson_03_verification import verify_task_1, verify_task_2, verify_task_3, verify_task_4\n",
    "    print(\"✅ Verification system loaded!\")\n",
    "    print(\"📝 You're ready to start the Walk-Along tasks.\")\n",
    "    print(\"\\n💡 Tip: Scroll down to Task 1 and start coding!\")\n",
    "except ImportError as e:\n",
    "    print(\"❌ Error loading verification system.\")\n",
    "    print(f\"Details: {e}\")\n",
    "    print(\"\\n💡 Make sure this notebook is in the correct Google Drive location.\")"
   ]
  },
  {
   "cell_type": "markdown",
   "metadata": {
    "id": "WAsM5WXH-CGO"
   },
   "source": [
    "---\n",
    "\n",
    "## Task 1: Store and Display a Price\n",
    "\n",
    "**What Mosh Does:**  \n",
    "Mosh creates a variable to store a price and then displays it.\n",
    "\n",
    "**Watch the video at timestamp 11:27**, then come back and type the EXACT code Mosh types:\n",
    "\n",
    "1. Create a variable named `price`\n",
    "2. Assign it the value `10`\n",
    "3. Print **the variable** (not the number \"10\" in quotes!)\n",
    "\n",
    "**Expected Output:**\n",
    "```\n",
    "10\n",
    "```\n",
    "\n",
    "⚠️ **Common Mistake:** Don't type `print(\"10\")` - that's printing the string \"10\", not the variable!  \n",
    "✅ **Correct Way:** Type `print(price)` - this prints the variable's value."
   ]
  },
  {
   "cell_type": "code",
   "execution_count": null,
   "metadata": {
    "colab": {
     "base_uri": "https://localhost:8080/"
    },
    "executionInfo": {
     "elapsed": 13,
     "status": "ok",
     "timestamp": 1760987554872,
     "user": {
      "displayName": "Richard Sullivan",
      "userId": "18337589653226615927"
     },
     "user_tz": 300
    },
    "id": "HLVcOH24-CGO",
    "outputId": "dfedfd8a-009a-4181-bfaa-f4ff7a887ec8"
   },
   "outputs": [
    {
     "name": "stdout",
     "output_type": "stream",
     "text": [
      "10\n"
     ]
    }
   ],
   "source": [
    "# Type your code below:\n",
    "price = 10\n",
    "print(10)"
   ]
  },
  {
   "cell_type": "code",
   "execution_count": null,
   "metadata": {
    "colab": {
     "base_uri": "https://localhost:8080/"
    },
    "executionInfo": {
     "elapsed": 7,
     "status": "ok",
     "timestamp": 1760987556985,
     "user": {
      "displayName": "Richard Sullivan",
      "userId": "18337589653226615927"
     },
     "user_tz": 300
    },
    "id": "NSaMpKWc-CGP",
    "outputId": "c21324db-6a23-4fbc-b0bf-d993fb8cecc3"
   },
   "outputs": [
    {
     "name": "stdout",
     "output_type": "stream",
     "text": [
      "✅ Perfect! You created the variable 'price' and assigned it the value 10.\n",
      "✅ Great job!\n"
     ]
    },
    {
     "data": {
      "text/plain": [
       "True"
      ]
     },
     "execution_count": 6,
     "metadata": {},
     "output_type": "execute_result"
    }
   ],
   "source": [
    "# Run this cell to check your work\n",
    "verify_task_1()"
   ]
  },
  {
   "cell_type": "markdown",
   "metadata": {
    "id": "SFbLZsL3-CGP"
   },
   "source": [
    "---\n",
    "\n",
    "## Task 2: Update a Variable Value\n",
    "\n",
    "**What Mosh Does:**  \n",
    "Mosh shows that you can change the value of a variable after creating it.\n",
    "\n",
    "**Your Steps:**\n",
    "1. Create a variable `price` with value `10`\n",
    "2. Change `price` to `20`\n",
    "3. Print the updated value\n",
    "\n",
    "**Expected Output:**\n",
    "```\n",
    "20\n",
    "```"
   ]
  },
  {
   "cell_type": "code",
   "execution_count": null,
   "metadata": {
    "id": "6cb-sozS-CGP"
   },
   "outputs": [],
   "source": [
    "# Type your code below:\n"
   ]
  },
  {
   "cell_type": "code",
   "execution_count": null,
   "metadata": {
    "id": "_To2k9qT-CGP"
   },
   "outputs": [],
   "source": [
    "# Run this cell to check your work\n",
    "verify_task_2()"
   ]
  },
  {
   "cell_type": "markdown",
   "metadata": {
    "id": "qlt4N95b-CGQ"
   },
   "source": [
    "---\n",
    "\n",
    "## Task 3: Work with Different Data Types\n",
    "\n",
    "**What Mosh Does:**  \n",
    "Mosh demonstrates the four main data types in Python.\n",
    "\n",
    "**Your Steps:**\n",
    "1. Create `price` as an integer with value `10`\n",
    "2. Create `rating` as a float (decimal) with value `4.9`\n",
    "3. Create `name` as a string with value `'Mosh'`\n",
    "4. Create `is_published` as a boolean with value `True`\n",
    "5. Print all four variables\n",
    "\n",
    "**Expected Output:**\n",
    "```\n",
    "10\n",
    "4.9\n",
    "Mosh\n",
    "True\n",
    "```\n",
    "\n",
    "**Tips:**\n",
    "- Strings use quotes: `'Mosh'` or `\"Mosh\"`\n",
    "- Booleans are capitalized: `True` or `False`\n",
    "- Floats need a decimal point: `4.9`"
   ]
  },
  {
   "cell_type": "code",
   "execution_count": null,
   "metadata": {
    "id": "jzMkrczU-CGQ"
   },
   "outputs": [],
   "source": [
    "# Type your code below:\n"
   ]
  },
  {
   "cell_type": "code",
   "execution_count": null,
   "metadata": {
    "id": "5lIXMsWK-CGQ"
   },
   "outputs": [],
   "source": [
    "# Run this cell to check your work\n",
    "verify_task_3()"
   ]
  },
  {
   "cell_type": "markdown",
   "metadata": {
    "id": "qcC-XFW6-CGQ"
   },
   "source": [
    "---\n",
    "\n",
    "## Task 4: Patient Information System\n",
    "\n",
    "**What Mosh Does:**  \n",
    "Mosh creates a simple system to store patient information using three variables.\n",
    "\n",
    "**Your Steps:**\n",
    "1. Create a variable `name` with value `'John Smith'`\n",
    "2. Create a variable `age` with value `20`\n",
    "3. Create a variable `is_new` with value `True`\n",
    "4. Print all three variables\n",
    "\n",
    "**Expected Output:**\n",
    "```\n",
    "John Smith\n",
    "20\n",
    "True\n",
    "```\n",
    "\n",
    "**Challenge:** After completing this task, try creating variables for yourself with your own name and age!"
   ]
  },
  {
   "cell_type": "code",
   "execution_count": null,
   "metadata": {
    "id": "ysx-rTrR-CGQ"
   },
   "outputs": [],
   "source": [
    "# Type your code below:\n"
   ]
  },
  {
   "cell_type": "code",
   "execution_count": null,
   "metadata": {
    "id": "vVp8YkN7-CGQ"
   },
   "outputs": [],
   "source": [
    "# Run this cell to check your work\n",
    "verify_task_4()"
   ]
  },
  {
   "cell_type": "markdown",
   "metadata": {
    "id": "P_SOq1fr-CGR"
   },
   "source": [
    "---\n",
    "\n",
    "## Summary\n",
    "\n",
    "In this lesson, you learned:\n",
    "\n",
    "- **Variables** store data in memory  \n",
    "- **Assignment** uses the `=` operator  \n",
    "- **Data Types** include:\n",
    "  - `int` (integers): whole numbers like 10, 20, -5\n",
    "  - `float` (floats): decimal numbers like 4.9, 3.14\n",
    "  - `str` (strings): text in quotes like 'Mosh', \"Hello\"\n",
    "  - `bool` (booleans): True or False\n",
    "\n",
    "- **Variables can be updated** by reassigning them  \n",
    "- **Descriptive names** make code easier to understand\n",
    "\n",
    "---\n",
    "\n",
    "## Next Steps\n",
    "\n",
    "Practice creating your own variables! Try:\n",
    "- Your name, age, and whether you're a student\n",
    "- A product name, price, and stock quantity\n",
    "- A city name, population, and temperature\n",
    "\n",
    "**Ready for more?** Move on to Lesson 04: Receiving Input!"
   ]
  },
  {
   "cell_type": "markdown",
   "metadata": {},
   "source": [
    "---\n",
    "\n",
    "## 🎯 Try It Yourself!\n",
    "\n",
    "**Congratulations!** You've completed all the Walk-Along tasks with Mosh. Now it's time to apply what you've learned!\n",
    "\n",
    "### Your Challenge:\n",
    "\n",
    "Create a variable to store **your favorite number** and then print it.\n",
    "\n",
    "**Requirements:**\n",
    "- ✅ Choose any variable name you want (be creative!)\n",
    "- ✅ Use any number you like\n",
    "- ✅ Make sure to print the **variable**, not just the number\n",
    "\n",
    "**Example (Don't copy this! Make your own!):**\n",
    "```python\n",
    "lucky_number = 7\n",
    "print(lucky_number)\n",
    "```\n",
    "\n",
    "**Common Mistakes to Avoid:**\n",
    "- ❌ Don't type `print(7)` - that's printing the number directly\n",
    "- ✅ Do type `print(lucky_number)` - that's printing the variable\n",
    "\n",
    "---\n",
    "\n",
    "### 💡 Hints:\n",
    "\n",
    "- Think of a meaningful variable name (like `favorite_num`, `lucky_number`, or `best_digit`)\n",
    "- Variable names should be descriptive and use underscores for spaces\n",
    "- Remember: variables store values so we can use them later!\n",
    "\n",
    "---"
   ]
  },
  {
   "cell_type": "code",
   "execution_count": null,
   "metadata": {},
   "outputs": [],
   "source": [
    "# Type your code below:\n",
    "# Create a variable with your favorite number and print it\n",
    "\n"
   ]
  },
  {
   "cell_type": "code",
   "execution_count": null,
   "metadata": {},
   "outputs": [],
   "source": [
    "# Run this cell to check your work\n",
    "verify_try_it_yourself()"
   ]
  },
  {
   "cell_type": "markdown",
   "metadata": {},
   "source": [
    "---\n",
    "\n",
    "## 🌟 Bonus Challenge! (Optional)\n",
    "\n",
    "Ready for something more challenging?\n",
    "\n",
    "### Your Challenge:\n",
    "\n",
    "Create **THREE variables** about yourself and print all three:\n",
    "\n",
    "1. Your name (as a string)\n",
    "2. Your age (as a number)\n",
    "3. Your favorite hobby (as a string)\n",
    "\n",
    "**Example Structure (Don't copy! Make it about YOU!):**\n",
    "```python\n",
    "student_name = \"Alex\"\n",
    "student_age = 20\n",
    "favorite_hobby = \"gaming\"\n",
    "\n",
    "print(student_name)\n",
    "print(student_age)\n",
    "print(favorite_hobby)\n",
    "```\n",
    "\n",
    "**Remember:**\n",
    "- Strings need quotes: `\"like this\"`\n",
    "- Numbers don't need quotes: `25`\n",
    "- Each variable needs its own `print()` statement\n",
    "\n",
    "---"
   ]
  },
  {
   "cell_type": "code",
   "execution_count": null,
   "metadata": {},
   "outputs": [],
   "source": [
    "# Type your code below:\n",
    "# Create 3 variables about yourself and print all 3\n",
    "\n"
   ]
  },
  {
   "cell_type": "code",
   "execution_count": null,
   "metadata": {},
   "outputs": [],
   "source": [
    "# Run this cell to check your bonus challenge\n",
    "verify_multiple_variables(3)"
   ]
  },
  {
   "cell_type": "markdown",
   "metadata": {},
   "source": [
    "---\n",
    "\n",
    "## 🎉 Congratulations!\n",
    "\n",
    "You've completed **Lesson 03: Variables**!\n",
    "\n",
    "### What You Learned:\n",
    "- ✅ Creating variables to store data\n",
    "- ✅ Displaying variables with `print()`\n",
    "- ✅ Updating variable values\n",
    "- ✅ Working with different data types (int, float, string, boolean)\n",
    "- ✅ Using variables in your own creative code\n",
    "\n",
    "### Key Concepts:\n",
    "- **Variables** are containers that store values\n",
    "- Variables can be **updated** by reassigning them\n",
    "- Always use **meaningful names** for your variables\n",
    "- **Print the variable**, not the literal value!\n",
    "\n",
    "---\n",
    "\n",
    "### 🚀 Next Steps:\n",
    "\n",
    "Continue to **Lesson 04: Receiving Input** to learn how to get data from users!\n",
    "\n",
    "**Keep practicing!** The more you code, the better you'll get. 💪\n",
    "\n",
    "---\n",
    "\n",
    "**Questions?** Review the video or ask your instructor for help!\n",
    "\n",
    "**Having issues with verification?** \n",
    "- Make sure you ran the setup cell (Cell 2) first\n",
    "- Check that you're printing variables, not literals\n",
    "- Re-run your code cell before running verification\n",
    "\n",
    "---"
   ]
  }
 ],
 "metadata": {
  "colab": {
   "provenance": []
  },
  "kernelspec": {
   "display_name": "Python 3",
   "name": "python3"
  },
  "language_info": {
   "name": "python"
  }
 },
 "nbformat": 4,
 "nbformat_minor": 0
}
